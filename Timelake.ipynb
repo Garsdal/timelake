{
 "cells": [
  {
   "cell_type": "code",
   "execution_count": 19,
   "metadata": {},
   "outputs": [],
   "source": [
    "import random\n",
    "from datetime import datetime, timedelta\n",
    "from pathlib import Path\n",
    "\n",
    "import polars as pl\n",
    "\n",
    "from timelake import TimeLake\n",
    "\n",
    "PATH = Path(\"./my-test-timelake\")"
   ]
  },
  {
   "cell_type": "code",
   "execution_count": null,
   "metadata": {},
   "outputs": [],
   "source": [
    "def create_sample_data(\n",
    "    num_rows: int = 100_000,\n",
    "    asset_ids: list[str] = [\"AAPL\", \"MSFT\", \"GOOG\", \"TSLA\"],\n",
    "    start_date: datetime = datetime(2023, 1, 1),\n",
    ") -> pl.DataFrame:\n",
    "    assert num_rows >= len(asset_ids), (\n",
    "        \"num_rows must be at least equal to the number of asset_ids\"\n",
    "    )\n",
    "\n",
    "    rows_per_asset = num_rows // len(asset_ids)\n",
    "    all_data = []\n",
    "\n",
    "    for asset_id in asset_ids:\n",
    "        dates = [start_date + timedelta(hours=i) for i in range(rows_per_asset)]\n",
    "        prices = [\n",
    "            round(100 + i * 0.05 + (i % 24) * 0.3 + random.uniform(-1, 1), 2)\n",
    "            for i in range(rows_per_asset)\n",
    "        ]\n",
    "        volumes = [\n",
    "            int(1000 + i * 2 + (i % 10) * 50 + random.randint(-20, 20))\n",
    "            for i in range(rows_per_asset)\n",
    "        ]\n",
    "        asset_col = [asset_id] * rows_per_asset\n",
    "\n",
    "        all_data.append(\n",
    "            pl.DataFrame(\n",
    "                {\n",
    "                    \"date\": dates,\n",
    "                    \"asset_id\": asset_col,\n",
    "                    \"price\": prices,\n",
    "                    \"volume\": volumes,\n",
    "                }\n",
    "            )\n",
    "        )\n",
    "\n",
    "    return pl.concat(all_data)\n"
   ]
  },
  {
   "cell_type": "code",
   "execution_count": 21,
   "metadata": {},
   "outputs": [
    {
     "data": {
      "text/html": [
       "<div><style>\n",
       ".dataframe > thead > tr,\n",
       ".dataframe > tbody > tr {\n",
       "  text-align: right;\n",
       "  white-space: pre-wrap;\n",
       "}\n",
       "</style>\n",
       "<small>shape: (5, 4)</small><table border=\"1\" class=\"dataframe\"><thead><tr><th>date</th><th>asset_id</th><th>price</th><th>volume</th></tr><tr><td>datetime[μs]</td><td>str</td><td>f64</td><td>i64</td></tr></thead><tbody><tr><td>2023-01-01 00:00:00</td><td>&quot;AAPL&quot;</td><td>100.21</td><td>1000</td></tr><tr><td>2023-01-01 01:00:00</td><td>&quot;AAPL&quot;</td><td>100.07</td><td>1053</td></tr><tr><td>2023-01-01 02:00:00</td><td>&quot;AAPL&quot;</td><td>100.87</td><td>1086</td></tr><tr><td>2023-01-01 03:00:00</td><td>&quot;AAPL&quot;</td><td>101.65</td><td>1167</td></tr><tr><td>2023-01-01 04:00:00</td><td>&quot;AAPL&quot;</td><td>102.09</td><td>1188</td></tr></tbody></table></div>"
      ],
      "text/plain": [
       "shape: (5, 4)\n",
       "┌─────────────────────┬──────────┬────────┬────────┐\n",
       "│ date                ┆ asset_id ┆ price  ┆ volume │\n",
       "│ ---                 ┆ ---      ┆ ---    ┆ ---    │\n",
       "│ datetime[μs]        ┆ str      ┆ f64    ┆ i64    │\n",
       "╞═════════════════════╪══════════╪════════╪════════╡\n",
       "│ 2023-01-01 00:00:00 ┆ AAPL     ┆ 100.21 ┆ 1000   │\n",
       "│ 2023-01-01 01:00:00 ┆ AAPL     ┆ 100.07 ┆ 1053   │\n",
       "│ 2023-01-01 02:00:00 ┆ AAPL     ┆ 100.87 ┆ 1086   │\n",
       "│ 2023-01-01 03:00:00 ┆ AAPL     ┆ 101.65 ┆ 1167   │\n",
       "│ 2023-01-01 04:00:00 ┆ AAPL     ┆ 102.09 ┆ 1188   │\n",
       "└─────────────────────┴──────────┴────────┴────────┘"
      ]
     },
     "execution_count": 21,
     "metadata": {},
     "output_type": "execute_result"
    }
   ],
   "source": [
    "df = create_sample_data()\n",
    "df.head(5)"
   ]
  },
  {
   "cell_type": "code",
   "execution_count": 22,
   "metadata": {},
   "outputs": [
    {
     "data": {
      "text/plain": [
       "(100000, 4)"
      ]
     },
     "execution_count": 22,
     "metadata": {},
     "output_type": "execute_result"
    }
   ],
   "source": [
    "df.shape"
   ]
  },
  {
   "cell_type": "code",
   "execution_count": 23,
   "metadata": {},
   "outputs": [],
   "source": [
    "lake = TimeLake.create(\n",
    "    path=PATH,\n",
    "    df=df,\n",
    "    timestamp_column=\"date\",\n",
    "    partition_by=[\"asset_id\"],\n",
    ")"
   ]
  },
  {
   "cell_type": "code",
   "execution_count": 24,
   "metadata": {},
   "outputs": [],
   "source": [
    "df = lake.read()"
   ]
  },
  {
   "cell_type": "code",
   "execution_count": 26,
   "metadata": {},
   "outputs": [
    {
     "data": {
      "text/plain": [
       "(100000, 5)"
      ]
     },
     "execution_count": 26,
     "metadata": {},
     "output_type": "execute_result"
    }
   ],
   "source": [
    "df.shape"
   ]
  }
 ],
 "metadata": {
  "kernelspec": {
   "display_name": ".venv",
   "language": "python",
   "name": "python3"
  },
  "language_info": {
   "codemirror_mode": {
    "name": "ipython",
    "version": 3
   },
   "file_extension": ".py",
   "mimetype": "text/x-python",
   "name": "python",
   "nbconvert_exporter": "python",
   "pygments_lexer": "ipython3",
   "version": "3.10.13"
  }
 },
 "nbformat": 4,
 "nbformat_minor": 2
}
