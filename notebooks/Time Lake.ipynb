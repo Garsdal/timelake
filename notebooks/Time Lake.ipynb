{
 "cells": [
  {
   "cell_type": "code",
   "execution_count": 1,
   "id": "877bc096",
   "metadata": {},
   "outputs": [],
   "source": [
    "from datetime import datetime, timedelta\n",
    "from pathlib import Path\n",
    "\n",
    "import polars as pl\n",
    "from sklearn.datasets import make_regression\n",
    "\n",
    "from timelake import TimeLake\n",
    "from timelake.constants import StorageType"
   ]
  },
  {
   "cell_type": "code",
   "execution_count": 2,
   "id": "55486c3a",
   "metadata": {},
   "outputs": [],
   "source": [
    "# Params\n",
    "n_hours = 24 * 30  # 30 days\n",
    "n_features = 100\n",
    "\n",
    "# Generate regression features\n",
    "X, _ = make_regression(n_samples=n_hours, n_features=n_features)\n",
    "timestamps = [datetime(2024, 1, 1) + timedelta(hours=i) for i in range(n_hours)]\n",
    "\n",
    "# Create Polars DataFrame\n",
    "df = pl.DataFrame(X, schema=[f\"feature_{i}\" for i in range(n_features)])\n",
    "df = df.with_columns(pl.Series(\"date\", timestamps))"
   ]
  },
  {
   "cell_type": "code",
   "execution_count": 3,
   "id": "259ac74b",
   "metadata": {},
   "outputs": [
    {
     "data": {
      "text/plain": [
       "(720, 103)"
      ]
     },
     "execution_count": 3,
     "metadata": {},
     "output_type": "execute_result"
    }
   ],
   "source": [
    "PATH = Path(\"./my-test-timelake\")\n",
    "\n",
    "lake = TimeLake.create(\n",
    "    path=PATH,\n",
    "    df=df,\n",
    "    timestamp_column=\"date\",\n",
    ")\n",
    "df = lake.read()\n",
    "df.shape"
   ]
  },
  {
   "cell_type": "code",
   "execution_count": 4,
   "id": "8e7e7c06",
   "metadata": {},
   "outputs": [
    {
     "data": {
      "text/plain": [
       "(72, 103)"
      ]
     },
     "execution_count": 4,
     "metadata": {},
     "output_type": "execute_result"
    }
   ],
   "source": [
    "lake.read(start_date=\"2024-01-01\", end_date=\"2024-01-03\").shape"
   ]
  },
  {
   "cell_type": "code",
   "execution_count": 5,
   "id": "f0f5895a",
   "metadata": {},
   "outputs": [],
   "source": [
    "df_update = df[0:10]\n",
    "lake.upsert(df_update)"
   ]
  },
  {
   "cell_type": "code",
   "execution_count": 6,
   "id": "48dac631",
   "metadata": {},
   "outputs": [
    {
     "data": {
      "text/plain": [
       "(720, 103)"
      ]
     },
     "execution_count": 6,
     "metadata": {},
     "output_type": "execute_result"
    }
   ],
   "source": [
    "df = lake.read()\n",
    "df.shape"
   ]
  },
  {
   "cell_type": "code",
   "execution_count": 7,
   "id": "1c78ccd0",
   "metadata": {},
   "outputs": [
    {
     "data": {
      "text/html": [
       "<div><style>\n",
       ".dataframe > thead > tr,\n",
       ".dataframe > tbody > tr {\n",
       "  text-align: right;\n",
       "  white-space: pre-wrap;\n",
       "}\n",
       "</style>\n",
       "<small>shape: (720, 103)</small><table border=\"1\" class=\"dataframe\"><thead><tr><th>feature_0</th><th>feature_1</th><th>feature_2</th><th>feature_3</th><th>feature_4</th><th>feature_5</th><th>feature_6</th><th>feature_7</th><th>feature_8</th><th>feature_9</th><th>feature_10</th><th>feature_11</th><th>feature_12</th><th>feature_13</th><th>feature_14</th><th>feature_15</th><th>feature_16</th><th>feature_17</th><th>feature_18</th><th>feature_19</th><th>feature_20</th><th>feature_21</th><th>feature_22</th><th>feature_23</th><th>feature_24</th><th>feature_25</th><th>feature_26</th><th>feature_27</th><th>feature_28</th><th>feature_29</th><th>feature_30</th><th>feature_31</th><th>feature_32</th><th>feature_33</th><th>feature_34</th><th>feature_35</th><th>feature_36</th><th>&hellip;</th><th>feature_66</th><th>feature_67</th><th>feature_68</th><th>feature_69</th><th>feature_70</th><th>feature_71</th><th>feature_72</th><th>feature_73</th><th>feature_74</th><th>feature_75</th><th>feature_76</th><th>feature_77</th><th>feature_78</th><th>feature_79</th><th>feature_80</th><th>feature_81</th><th>feature_82</th><th>feature_83</th><th>feature_84</th><th>feature_85</th><th>feature_86</th><th>feature_87</th><th>feature_88</th><th>feature_89</th><th>feature_90</th><th>feature_91</th><th>feature_92</th><th>feature_93</th><th>feature_94</th><th>feature_95</th><th>feature_96</th><th>feature_97</th><th>feature_98</th><th>feature_99</th><th>date</th><th>date_day</th><th>inserted_at</th></tr><tr><td>f64</td><td>f64</td><td>f64</td><td>f64</td><td>f64</td><td>f64</td><td>f64</td><td>f64</td><td>f64</td><td>f64</td><td>f64</td><td>f64</td><td>f64</td><td>f64</td><td>f64</td><td>f64</td><td>f64</td><td>f64</td><td>f64</td><td>f64</td><td>f64</td><td>f64</td><td>f64</td><td>f64</td><td>f64</td><td>f64</td><td>f64</td><td>f64</td><td>f64</td><td>f64</td><td>f64</td><td>f64</td><td>f64</td><td>f64</td><td>f64</td><td>f64</td><td>f64</td><td>&hellip;</td><td>f64</td><td>f64</td><td>f64</td><td>f64</td><td>f64</td><td>f64</td><td>f64</td><td>f64</td><td>f64</td><td>f64</td><td>f64</td><td>f64</td><td>f64</td><td>f64</td><td>f64</td><td>f64</td><td>f64</td><td>f64</td><td>f64</td><td>f64</td><td>f64</td><td>f64</td><td>f64</td><td>f64</td><td>f64</td><td>f64</td><td>f64</td><td>f64</td><td>f64</td><td>f64</td><td>f64</td><td>f64</td><td>f64</td><td>f64</td><td>datetime[μs]</td><td>str</td><td>datetime[μs]</td></tr></thead><tbody><tr><td>0.717283</td><td>-0.927444</td><td>-0.09301</td><td>-1.312804</td><td>0.842037</td><td>2.603085</td><td>-1.266181</td><td>-1.039496</td><td>0.554538</td><td>0.808861</td><td>-0.450002</td><td>-0.347809</td><td>1.673727</td><td>-1.242567</td><td>-0.52886</td><td>0.729386</td><td>0.981385</td><td>0.302241</td><td>0.187988</td><td>-0.82144</td><td>-1.17309</td><td>1.680734</td><td>-1.783832</td><td>0.908725</td><td>-0.963227</td><td>-0.509153</td><td>-0.13706</td><td>0.320992</td><td>0.376945</td><td>-2.104643</td><td>0.207738</td><td>1.266918</td><td>1.487491</td><td>-0.52082</td><td>0.1659</td><td>1.931507</td><td>-0.249384</td><td>&hellip;</td><td>0.394851</td><td>-2.234399</td><td>0.426571</td><td>0.636504</td><td>0.418331</td><td>-0.399574</td><td>-0.346066</td><td>-0.827534</td><td>0.947883</td><td>0.629565</td><td>-0.469563</td><td>0.293792</td><td>-1.539689</td><td>-0.167741</td><td>-0.690682</td><td>0.896917</td><td>1.983889</td><td>-0.533558</td><td>-1.207915</td><td>-0.29155</td><td>2.353922</td><td>0.574847</td><td>-0.677372</td><td>-0.281597</td><td>0.530859</td><td>-1.804767</td><td>-1.070024</td><td>-0.141659</td><td>0.411941</td><td>1.106741</td><td>0.755192</td><td>0.333842</td><td>-0.635836</td><td>0.267522</td><td>2024-01-07 12:00:00</td><td>&quot;2024-01-07&quot;</td><td>2025-04-17 19:16:02.990358</td></tr><tr><td>0.672776</td><td>0.08284</td><td>0.809638</td><td>-0.387685</td><td>-1.179256</td><td>1.016518</td><td>-0.051868</td><td>-2.020441</td><td>0.974602</td><td>-1.132222</td><td>-2.094278</td><td>0.257003</td><td>-0.678811</td><td>-2.606857</td><td>1.119763</td><td>0.26674</td><td>-0.91504</td><td>0.956428</td><td>-1.278973</td><td>-0.11882</td><td>0.59657</td><td>-0.554921</td><td>0.727802</td><td>0.498291</td><td>0.704853</td><td>0.480467</td><td>-0.373227</td><td>-0.736683</td><td>0.325418</td><td>-0.288082</td><td>1.670868</td><td>0.007755</td><td>-1.894855</td><td>-0.533117</td><td>0.118234</td><td>-0.090535</td><td>-1.096048</td><td>&hellip;</td><td>-0.36054</td><td>0.599707</td><td>-0.18514</td><td>0.597902</td><td>1.065212</td><td>1.562043</td><td>0.441079</td><td>-1.496844</td><td>0.534174</td><td>1.546275</td><td>-0.768917</td><td>-0.624257</td><td>-0.195208</td><td>-1.389408</td><td>-0.618929</td><td>0.524741</td><td>2.229332</td><td>1.482452</td><td>-0.447917</td><td>-1.20978</td><td>0.31633</td><td>0.102556</td><td>-0.733189</td><td>0.071518</td><td>-1.616441</td><td>-1.630373</td><td>2.737953</td><td>-0.975653</td><td>0.331408</td><td>0.592675</td><td>0.780225</td><td>0.314724</td><td>1.107742</td><td>-0.214007</td><td>2024-01-07 10:00:00</td><td>&quot;2024-01-07&quot;</td><td>2025-04-17 19:16:02.990358</td></tr><tr><td>0.582985</td><td>0.525301</td><td>-0.460262</td><td>-1.033723</td><td>0.039901</td><td>1.218631</td><td>0.073297</td><td>0.670387</td><td>-0.026995</td><td>0.502492</td><td>-0.740711</td><td>-0.570701</td><td>-0.15558</td><td>0.040649</td><td>0.096253</td><td>0.030819</td><td>1.001633</td><td>1.109537</td><td>-0.795219</td><td>1.071757</td><td>-0.716782</td><td>-0.031091</td><td>-1.092521</td><td>0.986059</td><td>0.48797</td><td>-0.980578</td><td>0.714117</td><td>0.657062</td><td>0.225714</td><td>0.039913</td><td>0.288414</td><td>-0.926515</td><td>-0.349893</td><td>-0.245598</td><td>1.370642</td><td>1.215546</td><td>-0.124528</td><td>&hellip;</td><td>0.693162</td><td>0.222896</td><td>-1.645741</td><td>1.181163</td><td>-0.60598</td><td>0.453652</td><td>0.761324</td><td>-0.955365</td><td>-1.594625</td><td>-0.632462</td><td>0.818108</td><td>-0.691867</td><td>-0.253532</td><td>0.761249</td><td>1.305066</td><td>-1.659124</td><td>-1.023715</td><td>-0.846476</td><td>0.948726</td><td>0.463339</td><td>-0.104594</td><td>-1.894437</td><td>-1.132915</td><td>-1.049086</td><td>0.340471</td><td>0.112185</td><td>0.274587</td><td>-2.314097</td><td>0.066234</td><td>-0.863102</td><td>-0.903477</td><td>0.433612</td><td>0.734867</td><td>1.734457</td><td>2024-01-07 16:00:00</td><td>&quot;2024-01-07&quot;</td><td>2025-04-17 19:16:02.990358</td></tr><tr><td>-0.464245</td><td>0.406865</td><td>0.705744</td><td>0.35297</td><td>-0.522427</td><td>-0.173414</td><td>1.266324</td><td>-0.275705</td><td>-0.465429</td><td>0.281795</td><td>-1.375678</td><td>-1.0773</td><td>0.920195</td><td>1.698465</td><td>-1.051157</td><td>0.618711</td><td>0.500659</td><td>-1.517481</td><td>2.003836</td><td>-0.764921</td><td>0.047147</td><td>0.843566</td><td>-0.941408</td><td>-0.145398</td><td>-0.595072</td><td>-1.433903</td><td>1.64046</td><td>-1.012798</td><td>-0.07721</td><td>-1.365883</td><td>-0.933811</td><td>0.131153</td><td>-0.876398</td><td>-0.608656</td><td>-1.328725</td><td>-0.533263</td><td>0.141534</td><td>&hellip;</td><td>1.313797</td><td>0.739449</td><td>-0.38452</td><td>-0.490547</td><td>0.920103</td><td>-0.644972</td><td>-1.938043</td><td>0.935592</td><td>1.976037</td><td>1.178957</td><td>-0.429109</td><td>-0.048709</td><td>-1.411614</td><td>1.766656</td><td>-0.362301</td><td>0.466294</td><td>0.341722</td><td>-0.13139</td><td>-0.051557</td><td>-0.206916</td><td>-2.992897</td><td>-0.267807</td><td>-0.12423</td><td>0.640998</td><td>-0.463013</td><td>1.267758</td><td>0.590699</td><td>0.266497</td><td>-0.461422</td><td>-0.976217</td><td>0.762062</td><td>1.374054</td><td>0.517282</td><td>0.230314</td><td>2024-01-07 22:00:00</td><td>&quot;2024-01-07&quot;</td><td>2025-04-17 19:16:02.990358</td></tr><tr><td>0.095053</td><td>1.476596</td><td>1.10313</td><td>0.445963</td><td>0.737163</td><td>0.138266</td><td>-0.534942</td><td>-0.063143</td><td>-0.552617</td><td>-0.199431</td><td>-1.986454</td><td>0.679989</td><td>0.182708</td><td>-0.399367</td><td>0.225416</td><td>0.263831</td><td>-0.608209</td><td>-0.00391</td><td>0.439471</td><td>-0.633045</td><td>1.500651</td><td>-1.793054</td><td>0.118842</td><td>-1.330318</td><td>-1.943751</td><td>0.13195</td><td>-0.228795</td><td>-0.414084</td><td>1.130347</td><td>0.883771</td><td>-0.490941</td><td>0.426566</td><td>-1.506401</td><td>1.662721</td><td>-0.044002</td><td>-0.038991</td><td>-0.354216</td><td>&hellip;</td><td>0.402333</td><td>0.521052</td><td>-0.796467</td><td>-0.664269</td><td>0.890533</td><td>-0.352945</td><td>-1.169625</td><td>-1.460223</td><td>-0.434326</td><td>-0.443137</td><td>-0.121378</td><td>1.117971</td><td>-0.020476</td><td>-1.573138</td><td>-0.61819</td><td>0.309729</td><td>-1.834667</td><td>1.293115</td><td>0.535269</td><td>3.655647</td><td>2.409502</td><td>0.333206</td><td>-0.95724</td><td>-1.483841</td><td>1.742093</td><td>-0.449769</td><td>1.178452</td><td>-1.306232</td><td>-0.449093</td><td>-1.755495</td><td>-0.97671</td><td>1.175778</td><td>-2.157269</td><td>-1.795983</td><td>2024-01-07 18:00:00</td><td>&quot;2024-01-07&quot;</td><td>2025-04-17 19:16:02.990358</td></tr><tr><td>&hellip;</td><td>&hellip;</td><td>&hellip;</td><td>&hellip;</td><td>&hellip;</td><td>&hellip;</td><td>&hellip;</td><td>&hellip;</td><td>&hellip;</td><td>&hellip;</td><td>&hellip;</td><td>&hellip;</td><td>&hellip;</td><td>&hellip;</td><td>&hellip;</td><td>&hellip;</td><td>&hellip;</td><td>&hellip;</td><td>&hellip;</td><td>&hellip;</td><td>&hellip;</td><td>&hellip;</td><td>&hellip;</td><td>&hellip;</td><td>&hellip;</td><td>&hellip;</td><td>&hellip;</td><td>&hellip;</td><td>&hellip;</td><td>&hellip;</td><td>&hellip;</td><td>&hellip;</td><td>&hellip;</td><td>&hellip;</td><td>&hellip;</td><td>&hellip;</td><td>&hellip;</td><td>&hellip;</td><td>&hellip;</td><td>&hellip;</td><td>&hellip;</td><td>&hellip;</td><td>&hellip;</td><td>&hellip;</td><td>&hellip;</td><td>&hellip;</td><td>&hellip;</td><td>&hellip;</td><td>&hellip;</td><td>&hellip;</td><td>&hellip;</td><td>&hellip;</td><td>&hellip;</td><td>&hellip;</td><td>&hellip;</td><td>&hellip;</td><td>&hellip;</td><td>&hellip;</td><td>&hellip;</td><td>&hellip;</td><td>&hellip;</td><td>&hellip;</td><td>&hellip;</td><td>&hellip;</td><td>&hellip;</td><td>&hellip;</td><td>&hellip;</td><td>&hellip;</td><td>&hellip;</td><td>&hellip;</td><td>&hellip;</td><td>&hellip;</td><td>&hellip;</td><td>&hellip;</td><td>&hellip;</td></tr><tr><td>-0.343738</td><td>-1.777602</td><td>1.09631</td><td>1.611787</td><td>1.196493</td><td>1.724821</td><td>-0.041765</td><td>-1.475453</td><td>0.65033</td><td>-0.509302</td><td>-1.144488</td><td>0.989843</td><td>-0.325504</td><td>-1.431777</td><td>-1.224134</td><td>0.871883</td><td>-0.53</td><td>0.799582</td><td>0.79619</td><td>-0.459062</td><td>-1.160851</td><td>-0.296287</td><td>0.166713</td><td>0.320584</td><td>-1.692053</td><td>0.870908</td><td>-0.487721</td><td>-0.809718</td><td>0.763897</td><td>1.586824</td><td>-0.631022</td><td>-0.253608</td><td>-0.739626</td><td>0.45708</td><td>0.274628</td><td>0.228755</td><td>-0.092305</td><td>&hellip;</td><td>-0.872618</td><td>-2.221948</td><td>0.425606</td><td>-0.12596</td><td>-0.304639</td><td>-2.138675</td><td>1.77851</td><td>0.008019</td><td>0.694872</td><td>-0.689413</td><td>0.554325</td><td>1.022239</td><td>1.354483</td><td>0.603297</td><td>-0.452008</td><td>0.199061</td><td>0.001564</td><td>0.870002</td><td>-1.231424</td><td>0.040443</td><td>-0.007504</td><td>0.177674</td><td>1.099559</td><td>-0.660519</td><td>-0.157949</td><td>-3.16099</td><td>-1.132467</td><td>2.269381</td><td>-0.575312</td><td>-0.136595</td><td>-0.221943</td><td>-1.85202</td><td>0.091902</td><td>-0.22916</td><td>2024-01-06 19:00:00</td><td>&quot;2024-01-06&quot;</td><td>2025-04-17 19:16:02.990358</td></tr><tr><td>0.936823</td><td>-2.103404</td><td>-0.022942</td><td>0.868908</td><td>-0.33706</td><td>-0.840131</td><td>-0.025353</td><td>0.917937</td><td>-2.684768</td><td>-1.227194</td><td>1.506322</td><td>1.041234</td><td>1.839581</td><td>1.309844</td><td>-1.673827</td><td>2.484363</td><td>-0.107998</td><td>0.329077</td><td>-0.435244</td><td>1.019689</td><td>-1.302704</td><td>0.745099</td><td>-1.241508</td><td>-1.117618</td><td>1.700969</td><td>0.73439</td><td>0.408919</td><td>-1.776167</td><td>-0.425413</td><td>-1.019278</td><td>-0.747007</td><td>0.052225</td><td>1.56606</td><td>0.639297</td><td>-1.392796</td><td>-0.100734</td><td>0.647359</td><td>&hellip;</td><td>-0.833899</td><td>-1.002968</td><td>0.344312</td><td>-1.695517</td><td>-2.057641</td><td>0.238906</td><td>-2.103086</td><td>-0.002823</td><td>-0.038372</td><td>-0.392331</td><td>2.971065</td><td>1.657467</td><td>-1.738559</td><td>-0.550101</td><td>-1.977069</td><td>1.28963</td><td>-1.742657</td><td>-1.718238</td><td>0.188335</td><td>0.307225</td><td>-1.67705</td><td>1.502978</td><td>0.131713</td><td>-0.750641</td><td>0.599126</td><td>-1.80627</td><td>-1.236718</td><td>0.174922</td><td>-0.278735</td><td>-0.821438</td><td>-0.739812</td><td>0.717477</td><td>0.383766</td><td>0.126348</td><td>2024-01-06 20:00:00</td><td>&quot;2024-01-06&quot;</td><td>2025-04-17 19:16:02.990358</td></tr><tr><td>0.400373</td><td>1.118698</td><td>0.46277</td><td>1.521777</td><td>-0.524862</td><td>1.605744</td><td>0.603964</td><td>0.97664</td><td>-0.145521</td><td>0.844298</td><td>-0.138393</td><td>-1.067774</td><td>-0.19574</td><td>-0.615682</td><td>-0.130049</td><td>0.631645</td><td>2.242896</td><td>-0.399431</td><td>-0.863458</td><td>0.759603</td><td>0.742741</td><td>-1.122414</td><td>0.720655</td><td>-0.016082</td><td>1.110765</td><td>0.311007</td><td>-0.634513</td><td>-1.955209</td><td>0.555214</td><td>-1.27652</td><td>0.651897</td><td>0.264146</td><td>-1.618103</td><td>0.383489</td><td>-1.284574</td><td>0.494017</td><td>-0.018923</td><td>&hellip;</td><td>0.465264</td><td>-1.318878</td><td>1.043983</td><td>0.822589</td><td>-0.948941</td><td>-1.176126</td><td>0.394641</td><td>0.390703</td><td>0.689085</td><td>-0.350516</td><td>0.591834</td><td>0.102078</td><td>0.241472</td><td>-0.414669</td><td>0.556639</td><td>-1.275866</td><td>-0.805299</td><td>0.989776</td><td>0.648257</td><td>1.306352</td><td>-0.410516</td><td>-0.635858</td><td>0.103219</td><td>-0.035743</td><td>-0.778526</td><td>1.626484</td><td>0.55405</td><td>0.921031</td><td>0.33105</td><td>0.392498</td><td>1.170512</td><td>-1.275113</td><td>-0.450763</td><td>1.275582</td><td>2024-01-06 21:00:00</td><td>&quot;2024-01-06&quot;</td><td>2025-04-17 19:16:02.990358</td></tr><tr><td>-0.837243</td><td>0.41382</td><td>-0.180845</td><td>0.194588</td><td>0.178911</td><td>0.012926</td><td>2.228808</td><td>1.343284</td><td>0.288834</td><td>2.099256</td><td>1.182816</td><td>0.823361</td><td>-0.348933</td><td>1.149733</td><td>0.441083</td><td>-1.297572</td><td>-0.169247</td><td>2.682412</td><td>-0.666143</td><td>-0.321675</td><td>0.120343</td><td>-1.020453</td><td>-1.249412</td><td>-0.904478</td><td>1.057777</td><td>-0.992377</td><td>-2.012059</td><td>0.64505</td><td>-0.110985</td><td>0.796294</td><td>-0.918144</td><td>0.591281</td><td>1.605701</td><td>0.792271</td><td>-0.227821</td><td>0.553576</td><td>-0.244278</td><td>&hellip;</td><td>1.665253</td><td>-0.638472</td><td>-0.339921</td><td>0.635102</td><td>1.541035</td><td>0.854476</td><td>0.882429</td><td>-2.647806</td><td>-0.405386</td><td>-0.383389</td><td>0.721053</td><td>0.538965</td><td>0.128084</td><td>-0.341584</td><td>1.540671</td><td>0.525604</td><td>-0.117294</td><td>0.483786</td><td>0.332004</td><td>-1.568063</td><td>0.344396</td><td>-0.125277</td><td>1.075113</td><td>0.248661</td><td>1.345582</td><td>0.588532</td><td>-1.952194</td><td>1.569881</td><td>1.28695</td><td>-0.463989</td><td>0.013844</td><td>0.974269</td><td>0.889356</td><td>0.121024</td><td>2024-01-06 22:00:00</td><td>&quot;2024-01-06&quot;</td><td>2025-04-17 19:16:02.990358</td></tr><tr><td>-1.293994</td><td>1.351896</td><td>-0.22294</td><td>0.211129</td><td>0.356544</td><td>-0.852283</td><td>1.376219</td><td>-0.897215</td><td>0.832964</td><td>-0.665023</td><td>1.012027</td><td>0.338766</td><td>1.541956</td><td>-0.926024</td><td>0.014936</td><td>0.703083</td><td>0.845313</td><td>0.797561</td><td>0.725133</td><td>0.288652</td><td>1.094021</td><td>0.605848</td><td>-0.385347</td><td>-1.309126</td><td>-2.280278</td><td>0.045696</td><td>1.521518</td><td>-1.556579</td><td>1.459527</td><td>0.008169</td><td>-1.456587</td><td>-1.288709</td><td>-0.900938</td><td>1.10824</td><td>-0.25454</td><td>-0.739736</td><td>0.266224</td><td>&hellip;</td><td>-0.268904</td><td>-1.426668</td><td>0.213373</td><td>0.010755</td><td>0.80273</td><td>-1.099217</td><td>-0.622674</td><td>-0.396563</td><td>2.219311</td><td>-0.493261</td><td>1.805467</td><td>0.167947</td><td>0.896819</td><td>-0.188031</td><td>-0.833224</td><td>-0.975496</td><td>-1.724623</td><td>-0.688565</td><td>-0.332667</td><td>0.839597</td><td>-0.64703</td><td>-0.879099</td><td>1.010117</td><td>-0.546742</td><td>1.257858</td><td>-1.076071</td><td>0.435365</td><td>0.700142</td><td>-1.850909</td><td>2.004974</td><td>-0.080346</td><td>0.139776</td><td>2.028652</td><td>1.036667</td><td>2024-01-06 23:00:00</td><td>&quot;2024-01-06&quot;</td><td>2025-04-17 19:16:02.990358</td></tr></tbody></table></div>"
      ],
      "text/plain": [
       "shape: (720, 103)\n",
       "┌───────────┬───────────┬───────────┬───────────┬───┬───────────┬───────────┬───────────┬──────────┐\n",
       "│ feature_0 ┆ feature_1 ┆ feature_2 ┆ feature_3 ┆ … ┆ feature_9 ┆ date      ┆ date_day  ┆ inserted │\n",
       "│ ---       ┆ ---       ┆ ---       ┆ ---       ┆   ┆ 9         ┆ ---       ┆ ---       ┆ _at      │\n",
       "│ f64       ┆ f64       ┆ f64       ┆ f64       ┆   ┆ ---       ┆ datetime[ ┆ str       ┆ ---      │\n",
       "│           ┆           ┆           ┆           ┆   ┆ f64       ┆ μs]       ┆           ┆ datetime │\n",
       "│           ┆           ┆           ┆           ┆   ┆           ┆           ┆           ┆ [μs]     │\n",
       "╞═══════════╪═══════════╪═══════════╪═══════════╪═══╪═══════════╪═══════════╪═══════════╪══════════╡\n",
       "│ 0.717283  ┆ -0.927444 ┆ -0.09301  ┆ -1.312804 ┆ … ┆ 0.267522  ┆ 2024-01-0 ┆ 2024-01-0 ┆ 2025-04- │\n",
       "│           ┆           ┆           ┆           ┆   ┆           ┆ 7         ┆ 7         ┆ 17 19:16 │\n",
       "│           ┆           ┆           ┆           ┆   ┆           ┆ 12:00:00  ┆           ┆ :02.9903 │\n",
       "│           ┆           ┆           ┆           ┆   ┆           ┆           ┆           ┆ 58       │\n",
       "│ 0.672776  ┆ 0.08284   ┆ 0.809638  ┆ -0.387685 ┆ … ┆ -0.214007 ┆ 2024-01-0 ┆ 2024-01-0 ┆ 2025-04- │\n",
       "│           ┆           ┆           ┆           ┆   ┆           ┆ 7         ┆ 7         ┆ 17 19:16 │\n",
       "│           ┆           ┆           ┆           ┆   ┆           ┆ 10:00:00  ┆           ┆ :02.9903 │\n",
       "│           ┆           ┆           ┆           ┆   ┆           ┆           ┆           ┆ 58       │\n",
       "│ 0.582985  ┆ 0.525301  ┆ -0.460262 ┆ -1.033723 ┆ … ┆ 1.734457  ┆ 2024-01-0 ┆ 2024-01-0 ┆ 2025-04- │\n",
       "│           ┆           ┆           ┆           ┆   ┆           ┆ 7         ┆ 7         ┆ 17 19:16 │\n",
       "│           ┆           ┆           ┆           ┆   ┆           ┆ 16:00:00  ┆           ┆ :02.9903 │\n",
       "│           ┆           ┆           ┆           ┆   ┆           ┆           ┆           ┆ 58       │\n",
       "│ -0.464245 ┆ 0.406865  ┆ 0.705744  ┆ 0.35297   ┆ … ┆ 0.230314  ┆ 2024-01-0 ┆ 2024-01-0 ┆ 2025-04- │\n",
       "│           ┆           ┆           ┆           ┆   ┆           ┆ 7         ┆ 7         ┆ 17 19:16 │\n",
       "│           ┆           ┆           ┆           ┆   ┆           ┆ 22:00:00  ┆           ┆ :02.9903 │\n",
       "│           ┆           ┆           ┆           ┆   ┆           ┆           ┆           ┆ 58       │\n",
       "│ 0.095053  ┆ 1.476596  ┆ 1.10313   ┆ 0.445963  ┆ … ┆ -1.795983 ┆ 2024-01-0 ┆ 2024-01-0 ┆ 2025-04- │\n",
       "│           ┆           ┆           ┆           ┆   ┆           ┆ 7         ┆ 7         ┆ 17 19:16 │\n",
       "│           ┆           ┆           ┆           ┆   ┆           ┆ 18:00:00  ┆           ┆ :02.9903 │\n",
       "│           ┆           ┆           ┆           ┆   ┆           ┆           ┆           ┆ 58       │\n",
       "│ …         ┆ …         ┆ …         ┆ …         ┆ … ┆ …         ┆ …         ┆ …         ┆ …        │\n",
       "│ -0.343738 ┆ -1.777602 ┆ 1.09631   ┆ 1.611787  ┆ … ┆ -0.22916  ┆ 2024-01-0 ┆ 2024-01-0 ┆ 2025-04- │\n",
       "│           ┆           ┆           ┆           ┆   ┆           ┆ 6         ┆ 6         ┆ 17 19:16 │\n",
       "│           ┆           ┆           ┆           ┆   ┆           ┆ 19:00:00  ┆           ┆ :02.9903 │\n",
       "│           ┆           ┆           ┆           ┆   ┆           ┆           ┆           ┆ 58       │\n",
       "│ 0.936823  ┆ -2.103404 ┆ -0.022942 ┆ 0.868908  ┆ … ┆ 0.126348  ┆ 2024-01-0 ┆ 2024-01-0 ┆ 2025-04- │\n",
       "│           ┆           ┆           ┆           ┆   ┆           ┆ 6         ┆ 6         ┆ 17 19:16 │\n",
       "│           ┆           ┆           ┆           ┆   ┆           ┆ 20:00:00  ┆           ┆ :02.9903 │\n",
       "│           ┆           ┆           ┆           ┆   ┆           ┆           ┆           ┆ 58       │\n",
       "│ 0.400373  ┆ 1.118698  ┆ 0.46277   ┆ 1.521777  ┆ … ┆ 1.275582  ┆ 2024-01-0 ┆ 2024-01-0 ┆ 2025-04- │\n",
       "│           ┆           ┆           ┆           ┆   ┆           ┆ 6         ┆ 6         ┆ 17 19:16 │\n",
       "│           ┆           ┆           ┆           ┆   ┆           ┆ 21:00:00  ┆           ┆ :02.9903 │\n",
       "│           ┆           ┆           ┆           ┆   ┆           ┆           ┆           ┆ 58       │\n",
       "│ -0.837243 ┆ 0.41382   ┆ -0.180845 ┆ 0.194588  ┆ … ┆ 0.121024  ┆ 2024-01-0 ┆ 2024-01-0 ┆ 2025-04- │\n",
       "│           ┆           ┆           ┆           ┆   ┆           ┆ 6         ┆ 6         ┆ 17 19:16 │\n",
       "│           ┆           ┆           ┆           ┆   ┆           ┆ 22:00:00  ┆           ┆ :02.9903 │\n",
       "│           ┆           ┆           ┆           ┆   ┆           ┆           ┆           ┆ 58       │\n",
       "│ -1.293994 ┆ 1.351896  ┆ -0.22294  ┆ 0.211129  ┆ … ┆ 1.036667  ┆ 2024-01-0 ┆ 2024-01-0 ┆ 2025-04- │\n",
       "│           ┆           ┆           ┆           ┆   ┆           ┆ 6         ┆ 6         ┆ 17 19:16 │\n",
       "│           ┆           ┆           ┆           ┆   ┆           ┆ 23:00:00  ┆           ┆ :02.9903 │\n",
       "│           ┆           ┆           ┆           ┆   ┆           ┆           ┆           ┆ 58       │\n",
       "└───────────┴───────────┴───────────┴───────────┴───┴───────────┴───────────┴───────────┴──────────┘"
      ]
     },
     "execution_count": 7,
     "metadata": {},
     "output_type": "execute_result"
    }
   ],
   "source": [
    "df"
   ]
  },
  {
   "cell_type": "markdown",
   "id": "592b65a3",
   "metadata": {},
   "source": [
    "# We try to create a timelake on S3\n"
   ]
  },
  {
   "cell_type": "code",
   "execution_count": 13,
   "id": "77449aaa",
   "metadata": {},
   "outputs": [],
   "source": [
    "import dotenv\n",
    "\n",
    "dotenv.load_dotenv()\n",
    "lake = TimeLake.create(\n",
    "    path=\"s3://my-time-lake/test\",\n",
    "    df=df,\n",
    "    timestamp_column=\"date\",\n",
    "    storage_type=StorageType.S3,\n",
    ")"
   ]
  },
  {
   "cell_type": "code",
   "execution_count": 17,
   "id": "b7dbe9fb",
   "metadata": {},
   "outputs": [
    {
     "data": {
      "text/plain": [
       "(720, 103)"
      ]
     },
     "execution_count": 17,
     "metadata": {},
     "output_type": "execute_result"
    }
   ],
   "source": [
    "lake.read().shape"
   ]
  }
 ],
 "metadata": {
  "kernelspec": {
   "display_name": ".venv",
   "language": "python",
   "name": "python3"
  },
  "language_info": {
   "codemirror_mode": {
    "name": "ipython",
    "version": 3
   },
   "file_extension": ".py",
   "mimetype": "text/x-python",
   "name": "python",
   "nbconvert_exporter": "python",
   "pygments_lexer": "ipython3",
   "version": "3.10.13"
  }
 },
 "nbformat": 4,
 "nbformat_minor": 5
}
