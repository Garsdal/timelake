{
 "cells": [
  {
   "cell_type": "code",
   "execution_count": 1,
   "id": "877bc096",
   "metadata": {},
   "outputs": [],
   "source": [
    "from datetime import datetime, timedelta\n",
    "from pathlib import Path\n",
    "\n",
    "import polars as pl\n",
    "from sklearn.datasets import make_regression\n",
    "\n",
    "from timelake import TimeLake\n",
    "from timelake.constants import StorageType"
   ]
  },
  {
   "cell_type": "code",
   "execution_count": 2,
   "id": "55486c3a",
   "metadata": {},
   "outputs": [],
   "source": [
    "# Params\n",
    "n_hours = 24 * 30  # 30 days\n",
    "n_features = 100\n",
    "\n",
    "# Generate regression features\n",
    "X, _ = make_regression(n_samples=n_hours, n_features=n_features)\n",
    "timestamps = [datetime(2024, 1, 1) + timedelta(hours=i) for i in range(n_hours)]\n",
    "\n",
    "# Create Polars DataFrame\n",
    "df = pl.DataFrame(X, schema=[f\"feature_{i}\" for i in range(n_features)])\n",
    "df = df.with_columns(pl.Series(\"date\", timestamps))"
   ]
  },
  {
   "cell_type": "code",
   "execution_count": 3,
   "id": "259ac74b",
   "metadata": {},
   "outputs": [
    {
     "data": {
      "text/plain": [
       "(720, 103)"
      ]
     },
     "execution_count": 3,
     "metadata": {},
     "output_type": "execute_result"
    }
   ],
   "source": [
    "PATH = Path(\"./my-test-timelake\")\n",
    "\n",
    "lake = TimeLake.create(\n",
    "    path=PATH,\n",
    "    df=df,\n",
    "    timestamp_column=\"date\",\n",
    ")\n",
    "df = lake.read()\n",
    "df.shape"
   ]
  },
  {
   "cell_type": "code",
   "execution_count": 4,
   "id": "8e7e7c06",
   "metadata": {},
   "outputs": [
    {
     "data": {
      "text/plain": [
       "(72, 103)"
      ]
     },
     "execution_count": 4,
     "metadata": {},
     "output_type": "execute_result"
    }
   ],
   "source": [
    "lake.read(start_date=\"2024-01-01\", end_date=\"2024-01-03\").shape"
   ]
  },
  {
   "cell_type": "code",
   "execution_count": 5,
   "id": "f0f5895a",
   "metadata": {},
   "outputs": [],
   "source": [
    "df_update = df[0:10]\n",
    "lake.upsert(df_update)"
   ]
  },
  {
   "cell_type": "code",
   "execution_count": 6,
   "id": "48dac631",
   "metadata": {},
   "outputs": [
    {
     "data": {
      "text/plain": [
       "(720, 103)"
      ]
     },
     "execution_count": 6,
     "metadata": {},
     "output_type": "execute_result"
    }
   ],
   "source": [
    "df = lake.read()\n",
    "df.shape"
   ]
  },
  {
   "cell_type": "code",
   "execution_count": 7,
   "id": "1c78ccd0",
   "metadata": {},
   "outputs": [
    {
     "data": {
      "text/html": [
       "<div><style>\n",
       ".dataframe > thead > tr,\n",
       ".dataframe > tbody > tr {\n",
       "  text-align: right;\n",
       "  white-space: pre-wrap;\n",
       "}\n",
       "</style>\n",
       "<small>shape: (720, 103)</small><table border=\"1\" class=\"dataframe\"><thead><tr><th>feature_0</th><th>feature_1</th><th>feature_2</th><th>feature_3</th><th>feature_4</th><th>feature_5</th><th>feature_6</th><th>feature_7</th><th>feature_8</th><th>feature_9</th><th>feature_10</th><th>feature_11</th><th>feature_12</th><th>feature_13</th><th>feature_14</th><th>feature_15</th><th>feature_16</th><th>feature_17</th><th>feature_18</th><th>feature_19</th><th>feature_20</th><th>feature_21</th><th>feature_22</th><th>feature_23</th><th>feature_24</th><th>feature_25</th><th>feature_26</th><th>feature_27</th><th>feature_28</th><th>feature_29</th><th>feature_30</th><th>feature_31</th><th>feature_32</th><th>feature_33</th><th>feature_34</th><th>feature_35</th><th>feature_36</th><th>&hellip;</th><th>feature_66</th><th>feature_67</th><th>feature_68</th><th>feature_69</th><th>feature_70</th><th>feature_71</th><th>feature_72</th><th>feature_73</th><th>feature_74</th><th>feature_75</th><th>feature_76</th><th>feature_77</th><th>feature_78</th><th>feature_79</th><th>feature_80</th><th>feature_81</th><th>feature_82</th><th>feature_83</th><th>feature_84</th><th>feature_85</th><th>feature_86</th><th>feature_87</th><th>feature_88</th><th>feature_89</th><th>feature_90</th><th>feature_91</th><th>feature_92</th><th>feature_93</th><th>feature_94</th><th>feature_95</th><th>feature_96</th><th>feature_97</th><th>feature_98</th><th>feature_99</th><th>date</th><th>date_day</th><th>inserted_at</th></tr><tr><td>f64</td><td>f64</td><td>f64</td><td>f64</td><td>f64</td><td>f64</td><td>f64</td><td>f64</td><td>f64</td><td>f64</td><td>f64</td><td>f64</td><td>f64</td><td>f64</td><td>f64</td><td>f64</td><td>f64</td><td>f64</td><td>f64</td><td>f64</td><td>f64</td><td>f64</td><td>f64</td><td>f64</td><td>f64</td><td>f64</td><td>f64</td><td>f64</td><td>f64</td><td>f64</td><td>f64</td><td>f64</td><td>f64</td><td>f64</td><td>f64</td><td>f64</td><td>f64</td><td>&hellip;</td><td>f64</td><td>f64</td><td>f64</td><td>f64</td><td>f64</td><td>f64</td><td>f64</td><td>f64</td><td>f64</td><td>f64</td><td>f64</td><td>f64</td><td>f64</td><td>f64</td><td>f64</td><td>f64</td><td>f64</td><td>f64</td><td>f64</td><td>f64</td><td>f64</td><td>f64</td><td>f64</td><td>f64</td><td>f64</td><td>f64</td><td>f64</td><td>f64</td><td>f64</td><td>f64</td><td>f64</td><td>f64</td><td>f64</td><td>f64</td><td>datetime[μs]</td><td>str</td><td>datetime[μs]</td></tr></thead><tbody><tr><td>-1.297589</td><td>1.341438</td><td>0.1607</td><td>1.589851</td><td>1.074973</td><td>-0.897782</td><td>-1.536988</td><td>-1.393702</td><td>1.142122</td><td>2.997212</td><td>0.050685</td><td>-0.037894</td><td>-0.862635</td><td>-0.009117</td><td>0.214414</td><td>-1.297981</td><td>0.698573</td><td>0.482677</td><td>-0.065182</td><td>-1.492522</td><td>-2.358979</td><td>-2.386586</td><td>0.154762</td><td>0.108464</td><td>0.293042</td><td>-0.658336</td><td>1.684097</td><td>0.003296</td><td>0.932277</td><td>0.397827</td><td>-2.255018</td><td>0.034284</td><td>0.696755</td><td>0.974833</td><td>-1.028424</td><td>-0.816856</td><td>-0.131405</td><td>&hellip;</td><td>0.375949</td><td>1.344189</td><td>-1.837766</td><td>-0.627502</td><td>0.020443</td><td>-0.404291</td><td>-1.247424</td><td>-0.474928</td><td>-0.832249</td><td>-1.001298</td><td>-0.191364</td><td>-0.012009</td><td>-1.261858</td><td>-0.224284</td><td>-0.669871</td><td>1.374583</td><td>1.019069</td><td>1.611863</td><td>0.719077</td><td>-0.219786</td><td>-0.943485</td><td>-0.406114</td><td>0.15366</td><td>0.911051</td><td>-2.36134</td><td>-0.048301</td><td>0.114728</td><td>-0.459776</td><td>2.070141</td><td>0.937419</td><td>1.706197</td><td>0.208816</td><td>-0.458415</td><td>2.308985</td><td>2024-01-23 19:00:00</td><td>&quot;2024-01-23&quot;</td><td>2025-04-18 16:58:15.916209</td></tr><tr><td>-2.129139</td><td>1.935038</td><td>2.322282</td><td>-0.377115</td><td>-1.279613</td><td>0.971864</td><td>-0.614757</td><td>-1.121818</td><td>-0.180111</td><td>-0.798085</td><td>-0.182268</td><td>0.3542</td><td>-0.921215</td><td>0.326506</td><td>0.917333</td><td>0.390725</td><td>-0.631687</td><td>-0.58698</td><td>-0.779992</td><td>-0.423293</td><td>0.450339</td><td>0.970624</td><td>-0.358076</td><td>-0.115218</td><td>-1.622717</td><td>-1.188441</td><td>0.63563</td><td>0.874031</td><td>-0.7141</td><td>-0.007643</td><td>0.981492</td><td>0.908908</td><td>-0.718463</td><td>0.799096</td><td>-1.555272</td><td>-0.958692</td><td>-0.684878</td><td>&hellip;</td><td>-0.444942</td><td>-0.294616</td><td>0.720411</td><td>0.835027</td><td>-0.079057</td><td>1.198712</td><td>0.150934</td><td>1.190738</td><td>-0.326113</td><td>-0.579923</td><td>0.236742</td><td>-0.164517</td><td>0.53043</td><td>-0.221447</td><td>1.269526</td><td>-0.571591</td><td>1.09687</td><td>0.725793</td><td>-1.20609</td><td>0.508765</td><td>1.308781</td><td>0.555181</td><td>-2.198649</td><td>-0.163664</td><td>0.589188</td><td>1.455106</td><td>0.7689</td><td>0.230825</td><td>0.199155</td><td>0.604891</td><td>-0.219603</td><td>-1.167786</td><td>0.365303</td><td>0.58189</td><td>2024-01-23 11:00:00</td><td>&quot;2024-01-23&quot;</td><td>2025-04-18 16:58:15.916209</td></tr><tr><td>0.683255</td><td>0.793237</td><td>-0.776319</td><td>1.327152</td><td>0.347702</td><td>0.536832</td><td>0.322011</td><td>-0.508964</td><td>-1.610528</td><td>2.011401</td><td>0.357038</td><td>-2.839461</td><td>-0.069069</td><td>0.997772</td><td>-1.476616</td><td>-0.343481</td><td>0.531471</td><td>1.589523</td><td>-0.639883</td><td>1.417986</td><td>-1.820622</td><td>-1.77105</td><td>-1.5093</td><td>-0.441324</td><td>-0.169539</td><td>1.645082</td><td>1.120794</td><td>-1.156134</td><td>0.74349</td><td>-0.746493</td><td>-1.048664</td><td>0.127409</td><td>-0.981042</td><td>-1.315293</td><td>-1.051362</td><td>1.952467</td><td>-0.237626</td><td>&hellip;</td><td>-0.533936</td><td>-0.050547</td><td>-1.74767</td><td>-0.879362</td><td>-0.063292</td><td>0.988073</td><td>0.083991</td><td>0.230089</td><td>-1.049961</td><td>-1.326237</td><td>-0.22988</td><td>-1.709795</td><td>-0.813049</td><td>1.55863</td><td>-1.878786</td><td>-0.197055</td><td>0.185698</td><td>0.361221</td><td>-0.473822</td><td>1.407379</td><td>-1.350343</td><td>0.15642</td><td>-0.357487</td><td>-0.238595</td><td>-1.972249</td><td>-0.57491</td><td>1.166273</td><td>-0.307955</td><td>0.550604</td><td>-1.288824</td><td>-1.602448</td><td>-0.717623</td><td>-1.697506</td><td>-2.024055</td><td>2024-01-23 07:00:00</td><td>&quot;2024-01-23&quot;</td><td>2025-04-18 16:58:16.061606</td></tr><tr><td>-1.399907</td><td>2.046793</td><td>1.581106</td><td>0.17697</td><td>-0.377587</td><td>-1.300864</td><td>-2.297978</td><td>-1.017201</td><td>-0.311159</td><td>-1.338836</td><td>0.889739</td><td>-0.902917</td><td>-1.405005</td><td>0.243537</td><td>1.640736</td><td>2.79802</td><td>-1.47209</td><td>-0.470502</td><td>-0.563319</td><td>-0.332816</td><td>-0.687885</td><td>-1.039461</td><td>0.713166</td><td>0.019368</td><td>3.070139</td><td>0.154352</td><td>-0.848424</td><td>1.34394</td><td>-1.051035</td><td>-0.627639</td><td>-1.452377</td><td>-0.005128</td><td>0.582294</td><td>0.380855</td><td>-0.577819</td><td>0.067234</td><td>-0.918754</td><td>&hellip;</td><td>0.68952</td><td>-0.177691</td><td>1.19874</td><td>-0.337718</td><td>-1.959388</td><td>-1.221049</td><td>0.593334</td><td>-0.704518</td><td>-1.224245</td><td>0.589644</td><td>-1.146239</td><td>-0.37854</td><td>0.77918</td><td>-0.500311</td><td>-1.377694</td><td>-0.578947</td><td>1.549775</td><td>-2.154817</td><td>-0.096188</td><td>-0.08777</td><td>0.269174</td><td>-0.955974</td><td>1.150728</td><td>-0.306804</td><td>0.509158</td><td>-0.873211</td><td>-0.5685</td><td>-0.210253</td><td>-0.856409</td><td>0.181695</td><td>0.989048</td><td>-1.121192</td><td>-0.582412</td><td>0.231341</td><td>2024-01-23 14:00:00</td><td>&quot;2024-01-23&quot;</td><td>2025-04-18 16:58:15.916209</td></tr><tr><td>-0.341346</td><td>0.176823</td><td>-0.851972</td><td>0.020003</td><td>0.723674</td><td>0.875039</td><td>0.0141</td><td>-1.238388</td><td>-0.260913</td><td>-0.546646</td><td>1.242259</td><td>0.076914</td><td>-0.55044</td><td>0.666288</td><td>0.545813</td><td>1.712757</td><td>-0.040255</td><td>0.419365</td><td>-0.63863</td><td>-0.652044</td><td>-0.133749</td><td>-0.880571</td><td>-0.012797</td><td>0.222254</td><td>-1.071284</td><td>-1.063432</td><td>0.814839</td><td>0.446889</td><td>1.574376</td><td>-1.116973</td><td>-0.039299</td><td>-0.554375</td><td>-0.376287</td><td>0.165231</td><td>-0.650731</td><td>0.998018</td><td>-1.590718</td><td>&hellip;</td><td>0.434924</td><td>-0.573334</td><td>2.07795</td><td>0.889302</td><td>0.978131</td><td>0.508421</td><td>-0.017893</td><td>-0.413471</td><td>0.167285</td><td>0.619695</td><td>0.730165</td><td>0.387832</td><td>-0.143926</td><td>0.437044</td><td>-0.362021</td><td>-1.258467</td><td>-0.878382</td><td>-1.686648</td><td>0.554298</td><td>-0.025668</td><td>-1.44124</td><td>1.458531</td><td>2.493751</td><td>-0.316133</td><td>0.403428</td><td>-1.794223</td><td>-0.872238</td><td>-0.400463</td><td>0.281645</td><td>0.473671</td><td>0.227658</td><td>-1.388889</td><td>-0.499967</td><td>-1.067827</td><td>2024-01-23 21:00:00</td><td>&quot;2024-01-23&quot;</td><td>2025-04-18 16:58:15.916209</td></tr><tr><td>&hellip;</td><td>&hellip;</td><td>&hellip;</td><td>&hellip;</td><td>&hellip;</td><td>&hellip;</td><td>&hellip;</td><td>&hellip;</td><td>&hellip;</td><td>&hellip;</td><td>&hellip;</td><td>&hellip;</td><td>&hellip;</td><td>&hellip;</td><td>&hellip;</td><td>&hellip;</td><td>&hellip;</td><td>&hellip;</td><td>&hellip;</td><td>&hellip;</td><td>&hellip;</td><td>&hellip;</td><td>&hellip;</td><td>&hellip;</td><td>&hellip;</td><td>&hellip;</td><td>&hellip;</td><td>&hellip;</td><td>&hellip;</td><td>&hellip;</td><td>&hellip;</td><td>&hellip;</td><td>&hellip;</td><td>&hellip;</td><td>&hellip;</td><td>&hellip;</td><td>&hellip;</td><td>&hellip;</td><td>&hellip;</td><td>&hellip;</td><td>&hellip;</td><td>&hellip;</td><td>&hellip;</td><td>&hellip;</td><td>&hellip;</td><td>&hellip;</td><td>&hellip;</td><td>&hellip;</td><td>&hellip;</td><td>&hellip;</td><td>&hellip;</td><td>&hellip;</td><td>&hellip;</td><td>&hellip;</td><td>&hellip;</td><td>&hellip;</td><td>&hellip;</td><td>&hellip;</td><td>&hellip;</td><td>&hellip;</td><td>&hellip;</td><td>&hellip;</td><td>&hellip;</td><td>&hellip;</td><td>&hellip;</td><td>&hellip;</td><td>&hellip;</td><td>&hellip;</td><td>&hellip;</td><td>&hellip;</td><td>&hellip;</td><td>&hellip;</td><td>&hellip;</td><td>&hellip;</td><td>&hellip;</td></tr><tr><td>-0.537652</td><td>-0.814806</td><td>-0.054946</td><td>-0.190522</td><td>0.751987</td><td>-0.297349</td><td>0.181942</td><td>-0.256522</td><td>0.098307</td><td>0.1393</td><td>-0.691729</td><td>0.252278</td><td>1.357937</td><td>-0.637972</td><td>0.312591</td><td>0.721385</td><td>1.48719</td><td>-0.269787</td><td>-0.116578</td><td>0.296767</td><td>0.98829</td><td>0.441997</td><td>0.605646</td><td>1.474341</td><td>-1.128149</td><td>1.916569</td><td>1.639768</td><td>1.039025</td><td>0.283586</td><td>-0.70135</td><td>0.506189</td><td>0.334085</td><td>-0.33603</td><td>-2.591156</td><td>2.125816</td><td>-0.438925</td><td>-0.598904</td><td>&hellip;</td><td>-1.430151</td><td>2.522508</td><td>-0.324487</td><td>-0.548428</td><td>0.020641</td><td>0.075693</td><td>-0.167229</td><td>1.008571</td><td>0.523781</td><td>-1.386929</td><td>0.560162</td><td>0.143024</td><td>1.266303</td><td>0.091772</td><td>-0.060339</td><td>0.800498</td><td>-0.372305</td><td>1.060948</td><td>0.634918</td><td>-1.074621</td><td>0.929442</td><td>0.206242</td><td>-0.490521</td><td>-0.394453</td><td>-0.315011</td><td>0.185543</td><td>1.480888</td><td>0.689493</td><td>0.470947</td><td>-1.281798</td><td>-1.411797</td><td>0.953786</td><td>0.355297</td><td>1.252731</td><td>2024-01-26 19:00:00</td><td>&quot;2024-01-26&quot;</td><td>2025-04-18 16:58:15.916209</td></tr><tr><td>0.694095</td><td>-1.306977</td><td>2.138692</td><td>-0.392406</td><td>1.936742</td><td>0.576647</td><td>1.16916</td><td>-0.699522</td><td>-1.717323</td><td>0.939878</td><td>1.57741</td><td>1.280349</td><td>0.644349</td><td>1.280944</td><td>1.800207</td><td>1.824134</td><td>-0.423885</td><td>-0.957999</td><td>-0.711084</td><td>-1.015109</td><td>-1.401912</td><td>2.467024</td><td>1.396856</td><td>0.232231</td><td>-1.070302</td><td>1.122429</td><td>-0.689487</td><td>0.315943</td><td>-0.714654</td><td>0.070021</td><td>0.019782</td><td>1.087386</td><td>-1.672043</td><td>-1.080296</td><td>0.838374</td><td>-0.515235</td><td>0.817904</td><td>&hellip;</td><td>0.818374</td><td>0.073301</td><td>0.817363</td><td>-0.414222</td><td>0.925116</td><td>-1.108696</td><td>-1.957326</td><td>-1.224909</td><td>0.917927</td><td>1.614748</td><td>1.110896</td><td>-0.266836</td><td>-0.077125</td><td>1.007231</td><td>-0.26737</td><td>-0.362996</td><td>1.137931</td><td>0.754592</td><td>-0.315242</td><td>-0.080301</td><td>-0.24164</td><td>-0.310102</td><td>-0.401012</td><td>0.53981</td><td>-1.342171</td><td>0.952528</td><td>-0.355201</td><td>0.440096</td><td>0.305121</td><td>-1.39187</td><td>-0.178174</td><td>2.170942</td><td>0.833468</td><td>-0.545137</td><td>2024-01-26 20:00:00</td><td>&quot;2024-01-26&quot;</td><td>2025-04-18 16:58:15.916209</td></tr><tr><td>-1.203841</td><td>-1.018703</td><td>-4.362103</td><td>0.893717</td><td>-0.524601</td><td>-1.0372</td><td>-0.589486</td><td>-1.609084</td><td>0.140987</td><td>0.674051</td><td>0.480699</td><td>-0.811126</td><td>0.084307</td><td>0.763028</td><td>0.142422</td><td>-1.397647</td><td>0.595014</td><td>-0.93981</td><td>-0.666084</td><td>-0.539606</td><td>-2.102099</td><td>1.328819</td><td>0.589555</td><td>-0.557176</td><td>-0.112465</td><td>0.941227</td><td>-0.757397</td><td>0.968372</td><td>-2.067304</td><td>1.515087</td><td>0.648215</td><td>1.148573</td><td>1.053443</td><td>2.091268</td><td>-2.026303</td><td>-2.220506</td><td>1.733525</td><td>&hellip;</td><td>-1.649739</td><td>-0.763186</td><td>1.163272</td><td>0.689374</td><td>0.638808</td><td>-0.817347</td><td>-0.568304</td><td>-1.42163</td><td>-0.700165</td><td>-1.031509</td><td>-2.00789</td><td>-0.396617</td><td>2.054412</td><td>0.507716</td><td>-0.371153</td><td>-0.038379</td><td>1.331625</td><td>-0.412955</td><td>0.210039</td><td>0.657907</td><td>0.940505</td><td>-1.256056</td><td>0.497716</td><td>-0.276565</td><td>0.953821</td><td>-0.201035</td><td>-0.140699</td><td>0.83928</td><td>-0.282958</td><td>-0.553485</td><td>-1.081442</td><td>1.515935</td><td>0.264717</td><td>1.558598</td><td>2024-01-26 21:00:00</td><td>&quot;2024-01-26&quot;</td><td>2025-04-18 16:58:15.916209</td></tr><tr><td>0.080631</td><td>-0.318087</td><td>1.045286</td><td>-0.624522</td><td>2.235479</td><td>-0.844668</td><td>1.049169</td><td>2.581924</td><td>-0.660414</td><td>-0.448297</td><td>-0.764858</td><td>-0.427974</td><td>0.738225</td><td>0.675565</td><td>0.176142</td><td>-0.340387</td><td>-0.785441</td><td>-0.200661</td><td>-0.892976</td><td>1.112619</td><td>-0.245645</td><td>0.064632</td><td>0.42815</td><td>0.580687</td><td>-0.976518</td><td>-1.220465</td><td>0.543836</td><td>0.923325</td><td>-0.782546</td><td>-0.275089</td><td>-1.414802</td><td>-0.476939</td><td>1.359012</td><td>-1.83358</td><td>0.481074</td><td>0.325898</td><td>-0.285918</td><td>&hellip;</td><td>0.090095</td><td>-0.46251</td><td>-0.608365</td><td>-0.232727</td><td>0.082474</td><td>-1.607135</td><td>-0.901244</td><td>-1.799651</td><td>0.391492</td><td>0.516006</td><td>-0.36889</td><td>0.895897</td><td>-0.460683</td><td>0.435491</td><td>-1.770849</td><td>0.206997</td><td>0.227595</td><td>0.5249</td><td>0.302566</td><td>1.326298</td><td>-0.869595</td><td>0.367688</td><td>0.203894</td><td>-0.00493</td><td>0.385324</td><td>-0.452275</td><td>-1.315217</td><td>1.445226</td><td>0.752264</td><td>-1.487065</td><td>-0.508211</td><td>-2.024656</td><td>-0.053381</td><td>1.260183</td><td>2024-01-26 22:00:00</td><td>&quot;2024-01-26&quot;</td><td>2025-04-18 16:58:15.916209</td></tr><tr><td>0.29867</td><td>-1.121557</td><td>-0.037902</td><td>-0.177689</td><td>0.824232</td><td>-1.263414</td><td>-0.159582</td><td>0.925671</td><td>0.058516</td><td>0.963575</td><td>-0.277802</td><td>0.518795</td><td>-1.638291</td><td>2.125481</td><td>1.238694</td><td>0.164828</td><td>0.402564</td><td>0.153563</td><td>1.047951</td><td>1.629998</td><td>-0.784675</td><td>0.034234</td><td>-0.341695</td><td>1.043712</td><td>-0.439628</td><td>-0.646029</td><td>-1.425535</td><td>0.936219</td><td>0.856374</td><td>-0.528731</td><td>-0.437295</td><td>0.16433</td><td>-0.876935</td><td>-0.278705</td><td>0.107391</td><td>0.349202</td><td>1.139252</td><td>&hellip;</td><td>-0.033783</td><td>1.236192</td><td>0.597136</td><td>0.449449</td><td>-0.632907</td><td>-1.094464</td><td>0.642037</td><td>1.56286</td><td>-0.583428</td><td>-1.563534</td><td>-0.345714</td><td>-0.754491</td><td>-0.164497</td><td>0.250155</td><td>-0.518025</td><td>0.971489</td><td>1.034212</td><td>0.384092</td><td>-0.026003</td><td>-1.252458</td><td>-2.106764</td><td>0.558271</td><td>1.326979</td><td>0.334238</td><td>-0.184799</td><td>-0.670693</td><td>-0.35786</td><td>0.061029</td><td>-1.362273</td><td>2.442034</td><td>1.682088</td><td>-0.443694</td><td>-0.83494</td><td>-0.545014</td><td>2024-01-26 23:00:00</td><td>&quot;2024-01-26&quot;</td><td>2025-04-18 16:58:15.916209</td></tr></tbody></table></div>"
      ],
      "text/plain": [
       "shape: (720, 103)\n",
       "┌───────────┬───────────┬───────────┬───────────┬───┬───────────┬───────────┬───────────┬──────────┐\n",
       "│ feature_0 ┆ feature_1 ┆ feature_2 ┆ feature_3 ┆ … ┆ feature_9 ┆ date      ┆ date_day  ┆ inserted │\n",
       "│ ---       ┆ ---       ┆ ---       ┆ ---       ┆   ┆ 9         ┆ ---       ┆ ---       ┆ _at      │\n",
       "│ f64       ┆ f64       ┆ f64       ┆ f64       ┆   ┆ ---       ┆ datetime[ ┆ str       ┆ ---      │\n",
       "│           ┆           ┆           ┆           ┆   ┆ f64       ┆ μs]       ┆           ┆ datetime │\n",
       "│           ┆           ┆           ┆           ┆   ┆           ┆           ┆           ┆ [μs]     │\n",
       "╞═══════════╪═══════════╪═══════════╪═══════════╪═══╪═══════════╪═══════════╪═══════════╪══════════╡\n",
       "│ -1.297589 ┆ 1.341438  ┆ 0.1607    ┆ 1.589851  ┆ … ┆ 2.308985  ┆ 2024-01-2 ┆ 2024-01-2 ┆ 2025-04- │\n",
       "│           ┆           ┆           ┆           ┆   ┆           ┆ 3         ┆ 3         ┆ 18 16:58 │\n",
       "│           ┆           ┆           ┆           ┆   ┆           ┆ 19:00:00  ┆           ┆ :15.9162 │\n",
       "│           ┆           ┆           ┆           ┆   ┆           ┆           ┆           ┆ 09       │\n",
       "│ -2.129139 ┆ 1.935038  ┆ 2.322282  ┆ -0.377115 ┆ … ┆ 0.58189   ┆ 2024-01-2 ┆ 2024-01-2 ┆ 2025-04- │\n",
       "│           ┆           ┆           ┆           ┆   ┆           ┆ 3         ┆ 3         ┆ 18 16:58 │\n",
       "│           ┆           ┆           ┆           ┆   ┆           ┆ 11:00:00  ┆           ┆ :15.9162 │\n",
       "│           ┆           ┆           ┆           ┆   ┆           ┆           ┆           ┆ 09       │\n",
       "│ 0.683255  ┆ 0.793237  ┆ -0.776319 ┆ 1.327152  ┆ … ┆ -2.024055 ┆ 2024-01-2 ┆ 2024-01-2 ┆ 2025-04- │\n",
       "│           ┆           ┆           ┆           ┆   ┆           ┆ 3         ┆ 3         ┆ 18 16:58 │\n",
       "│           ┆           ┆           ┆           ┆   ┆           ┆ 07:00:00  ┆           ┆ :16.0616 │\n",
       "│           ┆           ┆           ┆           ┆   ┆           ┆           ┆           ┆ 06       │\n",
       "│ -1.399907 ┆ 2.046793  ┆ 1.581106  ┆ 0.17697   ┆ … ┆ 0.231341  ┆ 2024-01-2 ┆ 2024-01-2 ┆ 2025-04- │\n",
       "│           ┆           ┆           ┆           ┆   ┆           ┆ 3         ┆ 3         ┆ 18 16:58 │\n",
       "│           ┆           ┆           ┆           ┆   ┆           ┆ 14:00:00  ┆           ┆ :15.9162 │\n",
       "│           ┆           ┆           ┆           ┆   ┆           ┆           ┆           ┆ 09       │\n",
       "│ -0.341346 ┆ 0.176823  ┆ -0.851972 ┆ 0.020003  ┆ … ┆ -1.067827 ┆ 2024-01-2 ┆ 2024-01-2 ┆ 2025-04- │\n",
       "│           ┆           ┆           ┆           ┆   ┆           ┆ 3         ┆ 3         ┆ 18 16:58 │\n",
       "│           ┆           ┆           ┆           ┆   ┆           ┆ 21:00:00  ┆           ┆ :15.9162 │\n",
       "│           ┆           ┆           ┆           ┆   ┆           ┆           ┆           ┆ 09       │\n",
       "│ …         ┆ …         ┆ …         ┆ …         ┆ … ┆ …         ┆ …         ┆ …         ┆ …        │\n",
       "│ -0.537652 ┆ -0.814806 ┆ -0.054946 ┆ -0.190522 ┆ … ┆ 1.252731  ┆ 2024-01-2 ┆ 2024-01-2 ┆ 2025-04- │\n",
       "│           ┆           ┆           ┆           ┆   ┆           ┆ 6         ┆ 6         ┆ 18 16:58 │\n",
       "│           ┆           ┆           ┆           ┆   ┆           ┆ 19:00:00  ┆           ┆ :15.9162 │\n",
       "│           ┆           ┆           ┆           ┆   ┆           ┆           ┆           ┆ 09       │\n",
       "│ 0.694095  ┆ -1.306977 ┆ 2.138692  ┆ -0.392406 ┆ … ┆ -0.545137 ┆ 2024-01-2 ┆ 2024-01-2 ┆ 2025-04- │\n",
       "│           ┆           ┆           ┆           ┆   ┆           ┆ 6         ┆ 6         ┆ 18 16:58 │\n",
       "│           ┆           ┆           ┆           ┆   ┆           ┆ 20:00:00  ┆           ┆ :15.9162 │\n",
       "│           ┆           ┆           ┆           ┆   ┆           ┆           ┆           ┆ 09       │\n",
       "│ -1.203841 ┆ -1.018703 ┆ -4.362103 ┆ 0.893717  ┆ … ┆ 1.558598  ┆ 2024-01-2 ┆ 2024-01-2 ┆ 2025-04- │\n",
       "│           ┆           ┆           ┆           ┆   ┆           ┆ 6         ┆ 6         ┆ 18 16:58 │\n",
       "│           ┆           ┆           ┆           ┆   ┆           ┆ 21:00:00  ┆           ┆ :15.9162 │\n",
       "│           ┆           ┆           ┆           ┆   ┆           ┆           ┆           ┆ 09       │\n",
       "│ 0.080631  ┆ -0.318087 ┆ 1.045286  ┆ -0.624522 ┆ … ┆ 1.260183  ┆ 2024-01-2 ┆ 2024-01-2 ┆ 2025-04- │\n",
       "│           ┆           ┆           ┆           ┆   ┆           ┆ 6         ┆ 6         ┆ 18 16:58 │\n",
       "│           ┆           ┆           ┆           ┆   ┆           ┆ 22:00:00  ┆           ┆ :15.9162 │\n",
       "│           ┆           ┆           ┆           ┆   ┆           ┆           ┆           ┆ 09       │\n",
       "│ 0.29867   ┆ -1.121557 ┆ -0.037902 ┆ -0.177689 ┆ … ┆ -0.545014 ┆ 2024-01-2 ┆ 2024-01-2 ┆ 2025-04- │\n",
       "│           ┆           ┆           ┆           ┆   ┆           ┆ 6         ┆ 6         ┆ 18 16:58 │\n",
       "│           ┆           ┆           ┆           ┆   ┆           ┆ 23:00:00  ┆           ┆ :15.9162 │\n",
       "│           ┆           ┆           ┆           ┆   ┆           ┆           ┆           ┆ 09       │\n",
       "└───────────┴───────────┴───────────┴───────────┴───┴───────────┴───────────┴───────────┴──────────┘"
      ]
     },
     "execution_count": 7,
     "metadata": {},
     "output_type": "execute_result"
    }
   ],
   "source": [
    "df"
   ]
  },
  {
   "cell_type": "markdown",
   "id": "592b65a3",
   "metadata": {},
   "source": [
    "# We try to create a timelake on S3\n"
   ]
  },
  {
   "cell_type": "code",
   "execution_count": 12,
   "id": "77449aaa",
   "metadata": {},
   "outputs": [],
   "source": [
    "import dotenv\n",
    "\n",
    "dotenv.load_dotenv()\n",
    "lake = TimeLake.create(\n",
    "    path=\"s3://my-time-lake/test\",\n",
    "    df=df,\n",
    "    timestamp_column=\"date\",\n",
    "    storage_type=StorageType.S3,\n",
    ")"
   ]
  },
  {
   "cell_type": "code",
   "execution_count": 13,
   "id": "b7dbe9fb",
   "metadata": {},
   "outputs": [
    {
     "data": {
      "text/plain": [
       "(720, 103)"
      ]
     },
     "execution_count": 13,
     "metadata": {},
     "output_type": "execute_result"
    }
   ],
   "source": [
    "lake.read().shape"
   ]
  },
  {
   "cell_type": "code",
   "execution_count": 17,
   "metadata": {},
   "outputs": [
    {
     "data": {
      "text/plain": [
       "(24, 103)"
      ]
     },
     "execution_count": 17,
     "metadata": {},
     "output_type": "execute_result"
    }
   ],
   "source": [
    "lake.read(start_date=\"2024-01-01\", end_date=\"2024-01-01\").shape"
   ]
  }
 ],
 "metadata": {
  "kernelspec": {
   "display_name": ".venv",
   "language": "python",
   "name": "python3"
  },
  "language_info": {
   "codemirror_mode": {
    "name": "ipython",
    "version": 3
   },
   "file_extension": ".py",
   "mimetype": "text/x-python",
   "name": "python",
   "nbconvert_exporter": "python",
   "pygments_lexer": "ipython3",
   "version": "3.10.13"
  }
 },
 "nbformat": 4,
 "nbformat_minor": 5
}
