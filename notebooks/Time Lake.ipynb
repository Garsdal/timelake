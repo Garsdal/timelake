{
 "cells": [
  {
   "cell_type": "code",
   "execution_count": 1,
   "id": "877bc096",
   "metadata": {},
   "outputs": [],
   "source": [
    "from datetime import datetime, timedelta\n",
    "from pathlib import Path\n",
    "\n",
    "import polars as pl\n",
    "from sklearn.datasets import make_regression\n",
    "\n",
    "from timelake import TimeLake\n",
    "from timelake.constants import StorageType"
   ]
  },
  {
   "cell_type": "code",
   "execution_count": 2,
   "id": "55486c3a",
   "metadata": {},
   "outputs": [],
   "source": [
    "# Params\n",
    "n_hours = 24 * 30  # 30 days\n",
    "n_features = 100\n",
    "\n",
    "# Generate regression features\n",
    "X, _ = make_regression(n_samples=n_hours, n_features=n_features)\n",
    "timestamps = [datetime(2024, 1, 1) + timedelta(hours=i) for i in range(n_hours)]\n",
    "\n",
    "# Create Polars DataFrame\n",
    "df = pl.DataFrame(X, schema=[f\"feature_{i}\" for i in range(n_features)])\n",
    "df = df.with_columns(pl.Series(\"date\", timestamps))"
   ]
  },
  {
   "cell_type": "code",
   "execution_count": 3,
   "id": "259ac74b",
   "metadata": {},
   "outputs": [
    {
     "ename": "DeltaError",
     "evalue": "Generic error: A table already exists at: /Users/marcusgarsdal/Personal/timelake/notebooks/my-test-timelake/",
     "output_type": "error",
     "traceback": [
      "\u001b[0;31m---------------------------------------------------------------------------\u001b[0m",
      "\u001b[0;31mDeltaError\u001b[0m                                Traceback (most recent call last)",
      "Cell \u001b[0;32mIn[3], line 3\u001b[0m\n\u001b[1;32m      1\u001b[0m PATH \u001b[38;5;241m=\u001b[39m Path(\u001b[38;5;124m\"\u001b[39m\u001b[38;5;124m./my-test-timelake\u001b[39m\u001b[38;5;124m\"\u001b[39m)\n\u001b[0;32m----> 3\u001b[0m lake \u001b[38;5;241m=\u001b[39m \u001b[43mTimeLake\u001b[49m\u001b[38;5;241;43m.\u001b[39;49m\u001b[43mcreate\u001b[49m\u001b[43m(\u001b[49m\n\u001b[1;32m      4\u001b[0m \u001b[43m    \u001b[49m\u001b[43mpath\u001b[49m\u001b[38;5;241;43m=\u001b[39;49m\u001b[43mPATH\u001b[49m\u001b[43m,\u001b[49m\n\u001b[1;32m      5\u001b[0m \u001b[43m    \u001b[49m\u001b[43mdf\u001b[49m\u001b[38;5;241;43m=\u001b[39;49m\u001b[43mdf\u001b[49m\u001b[43m,\u001b[49m\n\u001b[1;32m      6\u001b[0m \u001b[43m    \u001b[49m\u001b[43mtimestamp_column\u001b[49m\u001b[38;5;241;43m=\u001b[39;49m\u001b[38;5;124;43m\"\u001b[39;49m\u001b[38;5;124;43mdate\u001b[39;49m\u001b[38;5;124;43m\"\u001b[39;49m\u001b[43m,\u001b[49m\n\u001b[1;32m      7\u001b[0m \u001b[43m)\u001b[49m\n\u001b[1;32m      8\u001b[0m df \u001b[38;5;241m=\u001b[39m lake\u001b[38;5;241m.\u001b[39mread()\n\u001b[1;32m      9\u001b[0m df\u001b[38;5;241m.\u001b[39mshape\n",
      "File \u001b[0;32m~/Personal/timelake/timelake/core.py:62\u001b[0m, in \u001b[0;36mTimeLake.create\u001b[0;34m(cls, path, df, timestamp_column, storage_type, storage_kwargs, preprocessor)\u001b[0m\n\u001b[1;32m     55\u001b[0m instance \u001b[38;5;241m=\u001b[39m \u001b[38;5;28mcls\u001b[39m(\n\u001b[1;32m     56\u001b[0m     timestamp_column\u001b[38;5;241m=\u001b[39mtimestamp_column,\n\u001b[1;32m     57\u001b[0m     storage\u001b[38;5;241m=\u001b[39mstorage,\n\u001b[1;32m     58\u001b[0m     preprocessor\u001b[38;5;241m=\u001b[39mpreprocessor,\n\u001b[1;32m     59\u001b[0m )\n\u001b[1;32m     61\u001b[0m partition_by \u001b[38;5;241m=\u001b[39m preprocessor\u001b[38;5;241m.\u001b[39mget_default_partitions(timestamp_column)\n\u001b[0;32m---> 62\u001b[0m \u001b[43mwrite_deltalake\u001b[49m\u001b[43m(\u001b[49m\n\u001b[1;32m     63\u001b[0m \u001b[43m    \u001b[49m\u001b[43mpath\u001b[49m\u001b[43m,\u001b[49m\n\u001b[1;32m     64\u001b[0m \u001b[43m    \u001b[49m\u001b[43mdf\u001b[49m\u001b[43m,\u001b[49m\n\u001b[1;32m     65\u001b[0m \u001b[43m    \u001b[49m\u001b[43mpartition_by\u001b[49m\u001b[38;5;241;43m=\u001b[39;49m\u001b[43mpartition_by\u001b[49m\u001b[43m,\u001b[49m\n\u001b[1;32m     66\u001b[0m \u001b[43m    \u001b[49m\u001b[43mstorage_options\u001b[49m\u001b[38;5;241;43m=\u001b[39;49m\u001b[43mstorage\u001b[49m\u001b[38;5;241;43m.\u001b[39;49m\u001b[43mget_storage_options\u001b[49m\u001b[43m(\u001b[49m\u001b[43m)\u001b[49m\u001b[43m,\u001b[49m\n\u001b[1;32m     67\u001b[0m \u001b[43m\u001b[49m\u001b[43m)\u001b[49m\n\u001b[1;32m     68\u001b[0m storage\u001b[38;5;241m.\u001b[39msave_metadata(instance\u001b[38;5;241m.\u001b[39mmetadata)\n\u001b[1;32m     70\u001b[0m \u001b[38;5;28;01mreturn\u001b[39;00m instance\n",
      "File \u001b[0;32m~/Personal/timelake/.venv/lib/python3.10/site-packages/deltalake/writer.py:324\u001b[0m, in \u001b[0;36mwrite_deltalake\u001b[0;34m(table_or_uri, data, schema, partition_by, mode, file_options, max_partitions, max_open_files, max_rows_per_file, min_rows_per_group, max_rows_per_group, name, description, configuration, schema_mode, storage_options, partition_filters, predicate, target_file_size, large_dtypes, engine, writer_properties, custom_metadata, post_commithook_properties, commit_properties)\u001b[0m\n\u001b[1;32m    322\u001b[0m data \u001b[38;5;241m=\u001b[39m RecordBatchReader\u001b[38;5;241m.\u001b[39mfrom_batches(schema, (batch \u001b[38;5;28;01mfor\u001b[39;00m batch \u001b[38;5;129;01min\u001b[39;00m data))\n\u001b[1;32m    323\u001b[0m \u001b[38;5;28;01mif\u001b[39;00m table:\n\u001b[0;32m--> 324\u001b[0m     \u001b[43mtable\u001b[49m\u001b[38;5;241;43m.\u001b[39;49m\u001b[43m_table\u001b[49m\u001b[38;5;241;43m.\u001b[39;49m\u001b[43mwrite\u001b[49m\u001b[43m(\u001b[49m\n\u001b[1;32m    325\u001b[0m \u001b[43m        \u001b[49m\u001b[43mdata\u001b[49m\u001b[38;5;241;43m=\u001b[39;49m\u001b[43mdata\u001b[49m\u001b[43m,\u001b[49m\n\u001b[1;32m    326\u001b[0m \u001b[43m        \u001b[49m\u001b[43mpartition_by\u001b[49m\u001b[38;5;241;43m=\u001b[39;49m\u001b[43mpartition_by\u001b[49m\u001b[43m,\u001b[49m\n\u001b[1;32m    327\u001b[0m \u001b[43m        \u001b[49m\u001b[43mmode\u001b[49m\u001b[38;5;241;43m=\u001b[39;49m\u001b[43mmode\u001b[49m\u001b[43m,\u001b[49m\n\u001b[1;32m    328\u001b[0m \u001b[43m        \u001b[49m\u001b[43mschema_mode\u001b[49m\u001b[38;5;241;43m=\u001b[39;49m\u001b[43mschema_mode\u001b[49m\u001b[43m,\u001b[49m\n\u001b[1;32m    329\u001b[0m \u001b[43m        \u001b[49m\u001b[43mpredicate\u001b[49m\u001b[38;5;241;43m=\u001b[39;49m\u001b[43mpredicate\u001b[49m\u001b[43m,\u001b[49m\n\u001b[1;32m    330\u001b[0m \u001b[43m        \u001b[49m\u001b[43mtarget_file_size\u001b[49m\u001b[38;5;241;43m=\u001b[39;49m\u001b[43mtarget_file_size\u001b[49m\u001b[43m,\u001b[49m\n\u001b[1;32m    331\u001b[0m \u001b[43m        \u001b[49m\u001b[43mname\u001b[49m\u001b[38;5;241;43m=\u001b[39;49m\u001b[43mname\u001b[49m\u001b[43m,\u001b[49m\n\u001b[1;32m    332\u001b[0m \u001b[43m        \u001b[49m\u001b[43mdescription\u001b[49m\u001b[38;5;241;43m=\u001b[39;49m\u001b[43mdescription\u001b[49m\u001b[43m,\u001b[49m\n\u001b[1;32m    333\u001b[0m \u001b[43m        \u001b[49m\u001b[43mconfiguration\u001b[49m\u001b[38;5;241;43m=\u001b[39;49m\u001b[43mconfiguration\u001b[49m\u001b[43m,\u001b[49m\n\u001b[1;32m    334\u001b[0m \u001b[43m        \u001b[49m\u001b[43mwriter_properties\u001b[49m\u001b[38;5;241;43m=\u001b[39;49m\u001b[43mwriter_properties\u001b[49m\u001b[43m,\u001b[49m\n\u001b[1;32m    335\u001b[0m \u001b[43m        \u001b[49m\u001b[43mcommit_properties\u001b[49m\u001b[38;5;241;43m=\u001b[39;49m\u001b[43mcommit_properties\u001b[49m\u001b[43m,\u001b[49m\n\u001b[1;32m    336\u001b[0m \u001b[43m        \u001b[49m\u001b[43mpost_commithook_properties\u001b[49m\u001b[38;5;241;43m=\u001b[39;49m\u001b[43mpost_commithook_properties\u001b[49m\u001b[43m,\u001b[49m\n\u001b[1;32m    337\u001b[0m \u001b[43m    \u001b[49m\u001b[43m)\u001b[49m\n\u001b[1;32m    338\u001b[0m \u001b[38;5;28;01melse\u001b[39;00m:\n\u001b[1;32m    339\u001b[0m     write_deltalake_rust(\n\u001b[1;32m    340\u001b[0m         table_uri\u001b[38;5;241m=\u001b[39mtable_uri,\n\u001b[1;32m    341\u001b[0m         data\u001b[38;5;241m=\u001b[39mdata,\n\u001b[0;32m   (...)\u001b[0m\n\u001b[1;32m    353\u001b[0m         post_commithook_properties\u001b[38;5;241m=\u001b[39mpost_commithook_properties,\n\u001b[1;32m    354\u001b[0m     )\n",
      "\u001b[0;31mDeltaError\u001b[0m: Generic error: A table already exists at: /Users/marcusgarsdal/Personal/timelake/notebooks/my-test-timelake/"
     ]
    }
   ],
   "source": [
    "PATH = Path(\"./my-test-timelake\")\n",
    "\n",
    "lake = TimeLake.create(\n",
    "    path=PATH,\n",
    "    df=df,\n",
    "    timestamp_column=\"date\",\n",
    ")\n",
    "df = lake.read()\n",
    "df.shape"
   ]
  },
  {
   "cell_type": "code",
   "execution_count": null,
   "id": "8e7e7c06",
   "metadata": {},
   "outputs": [
    {
     "data": {
      "text/plain": [
       "(72, 103)"
      ]
     },
     "execution_count": 4,
     "metadata": {},
     "output_type": "execute_result"
    }
   ],
   "source": [
    "lake.read(start_date=\"2024-01-01\", end_date=\"2024-01-03\").shape"
   ]
  },
  {
   "cell_type": "code",
   "execution_count": null,
   "id": "f0f5895a",
   "metadata": {},
   "outputs": [],
   "source": [
    "df_update = df[0:10]\n",
    "lake.upsert(df_update)"
   ]
  },
  {
   "cell_type": "code",
   "execution_count": null,
   "id": "48dac631",
   "metadata": {},
   "outputs": [
    {
     "data": {
      "text/plain": [
       "(720, 103)"
      ]
     },
     "execution_count": 6,
     "metadata": {},
     "output_type": "execute_result"
    }
   ],
   "source": [
    "df = lake.read()\n",
    "df.shape"
   ]
  },
  {
   "cell_type": "code",
   "execution_count": null,
   "id": "1c78ccd0",
   "metadata": {},
   "outputs": [
    {
     "data": {
      "text/html": [
       "<div><style>\n",
       ".dataframe > thead > tr,\n",
       ".dataframe > tbody > tr {\n",
       "  text-align: right;\n",
       "  white-space: pre-wrap;\n",
       "}\n",
       "</style>\n",
       "<small>shape: (720, 103)</small><table border=\"1\" class=\"dataframe\"><thead><tr><th>feature_0</th><th>feature_1</th><th>feature_2</th><th>feature_3</th><th>feature_4</th><th>feature_5</th><th>feature_6</th><th>feature_7</th><th>feature_8</th><th>feature_9</th><th>feature_10</th><th>feature_11</th><th>feature_12</th><th>feature_13</th><th>feature_14</th><th>feature_15</th><th>feature_16</th><th>feature_17</th><th>feature_18</th><th>feature_19</th><th>feature_20</th><th>feature_21</th><th>feature_22</th><th>feature_23</th><th>feature_24</th><th>feature_25</th><th>feature_26</th><th>feature_27</th><th>feature_28</th><th>feature_29</th><th>feature_30</th><th>feature_31</th><th>feature_32</th><th>feature_33</th><th>feature_34</th><th>feature_35</th><th>feature_36</th><th>&hellip;</th><th>feature_66</th><th>feature_67</th><th>feature_68</th><th>feature_69</th><th>feature_70</th><th>feature_71</th><th>feature_72</th><th>feature_73</th><th>feature_74</th><th>feature_75</th><th>feature_76</th><th>feature_77</th><th>feature_78</th><th>feature_79</th><th>feature_80</th><th>feature_81</th><th>feature_82</th><th>feature_83</th><th>feature_84</th><th>feature_85</th><th>feature_86</th><th>feature_87</th><th>feature_88</th><th>feature_89</th><th>feature_90</th><th>feature_91</th><th>feature_92</th><th>feature_93</th><th>feature_94</th><th>feature_95</th><th>feature_96</th><th>feature_97</th><th>feature_98</th><th>feature_99</th><th>date</th><th>date_day</th><th>inserted_at</th></tr><tr><td>f64</td><td>f64</td><td>f64</td><td>f64</td><td>f64</td><td>f64</td><td>f64</td><td>f64</td><td>f64</td><td>f64</td><td>f64</td><td>f64</td><td>f64</td><td>f64</td><td>f64</td><td>f64</td><td>f64</td><td>f64</td><td>f64</td><td>f64</td><td>f64</td><td>f64</td><td>f64</td><td>f64</td><td>f64</td><td>f64</td><td>f64</td><td>f64</td><td>f64</td><td>f64</td><td>f64</td><td>f64</td><td>f64</td><td>f64</td><td>f64</td><td>f64</td><td>f64</td><td>&hellip;</td><td>f64</td><td>f64</td><td>f64</td><td>f64</td><td>f64</td><td>f64</td><td>f64</td><td>f64</td><td>f64</td><td>f64</td><td>f64</td><td>f64</td><td>f64</td><td>f64</td><td>f64</td><td>f64</td><td>f64</td><td>f64</td><td>f64</td><td>f64</td><td>f64</td><td>f64</td><td>f64</td><td>f64</td><td>f64</td><td>f64</td><td>f64</td><td>f64</td><td>f64</td><td>f64</td><td>f64</td><td>f64</td><td>f64</td><td>f64</td><td>datetime[μs]</td><td>str</td><td>datetime[μs]</td></tr></thead><tbody><tr><td>-0.144268</td><td>-1.857755</td><td>0.543574</td><td>-1.435836</td><td>-0.675756</td><td>0.305048</td><td>-0.24695</td><td>-1.132194</td><td>-0.350304</td><td>1.276591</td><td>0.390961</td><td>0.412135</td><td>0.885243</td><td>1.87679</td><td>-1.970451</td><td>0.246818</td><td>0.190194</td><td>-0.474567</td><td>1.197974</td><td>-1.406458</td><td>0.051937</td><td>0.363343</td><td>-0.637009</td><td>-0.889926</td><td>1.108118</td><td>-1.048081</td><td>1.009039</td><td>0.955959</td><td>1.244892</td><td>-0.789147</td><td>-0.7128</td><td>-0.090019</td><td>-1.025324</td><td>-0.28729</td><td>-0.204436</td><td>-1.354189</td><td>0.711833</td><td>&hellip;</td><td>0.282654</td><td>-0.463919</td><td>-0.936559</td><td>-0.614608</td><td>-0.493558</td><td>-0.501905</td><td>-0.601898</td><td>-1.175316</td><td>-1.964375</td><td>0.791112</td><td>-0.184902</td><td>-0.845108</td><td>-0.475754</td><td>-0.341664</td><td>-1.173054</td><td>-1.515962</td><td>0.310603</td><td>-0.112173</td><td>0.070707</td><td>1.004718</td><td>-1.138748</td><td>1.265018</td><td>-1.169608</td><td>-0.70426</td><td>-0.180551</td><td>0.469773</td><td>-0.084751</td><td>0.343493</td><td>-0.718323</td><td>-1.359126</td><td>-0.400183</td><td>1.412842</td><td>-1.070131</td><td>1.319225</td><td>2024-01-11 16:00:00</td><td>&quot;2024-01-11&quot;</td><td>2025-04-17 19:02:12.704233</td></tr><tr><td>-0.257991</td><td>0.43048</td><td>0.376801</td><td>-0.921056</td><td>0.489125</td><td>-0.842635</td><td>-0.133112</td><td>0.720871</td><td>-1.919723</td><td>0.514233</td><td>1.223128</td><td>-0.271341</td><td>0.604127</td><td>-0.622316</td><td>-1.067686</td><td>0.097602</td><td>-1.248424</td><td>-0.309185</td><td>0.745642</td><td>-0.223493</td><td>1.141362</td><td>-1.821556</td><td>-1.155267</td><td>2.178269</td><td>1.118815</td><td>-0.58252</td><td>1.003033</td><td>0.056147</td><td>1.088411</td><td>1.588092</td><td>-0.9305</td><td>0.99255</td><td>-0.643389</td><td>0.09347</td><td>0.09508</td><td>-0.687237</td><td>-1.11007</td><td>&hellip;</td><td>0.367846</td><td>0.99077</td><td>-1.105117</td><td>-0.374207</td><td>-1.475692</td><td>0.867758</td><td>1.207072</td><td>-2.01617</td><td>-0.31791</td><td>-1.112252</td><td>1.430654</td><td>-0.39034</td><td>-0.374689</td><td>0.114673</td><td>2.224875</td><td>-1.398329</td><td>-0.180082</td><td>0.149032</td><td>-1.04987</td><td>-1.657525</td><td>-2.050133</td><td>-0.178286</td><td>2.382676</td><td>0.633292</td><td>-0.590616</td><td>0.311924</td><td>0.596414</td><td>1.264399</td><td>0.206069</td><td>-0.135464</td><td>-0.847125</td><td>-0.210037</td><td>1.352323</td><td>-1.697973</td><td>2024-01-11 18:00:00</td><td>&quot;2024-01-11&quot;</td><td>2025-04-17 19:02:12.704233</td></tr><tr><td>-0.439295</td><td>-0.700858</td><td>-0.312366</td><td>1.318895</td><td>1.684998</td><td>1.148801</td><td>0.749196</td><td>-0.125902</td><td>1.591382</td><td>1.151685</td><td>1.036098</td><td>-0.085302</td><td>0.633793</td><td>-0.596979</td><td>0.581901</td><td>-0.302647</td><td>1.936236</td><td>1.739209</td><td>0.321469</td><td>-0.613634</td><td>1.014886</td><td>1.612601</td><td>-0.661506</td><td>1.601596</td><td>1.610268</td><td>-0.137301</td><td>-1.718545</td><td>-0.594292</td><td>-0.505877</td><td>-1.039984</td><td>-0.849893</td><td>-0.238568</td><td>-0.302422</td><td>-0.524816</td><td>-0.465366</td><td>-1.45918</td><td>0.343428</td><td>&hellip;</td><td>1.132833</td><td>0.12219</td><td>0.308173</td><td>-0.623949</td><td>0.977351</td><td>-0.211635</td><td>0.081929</td><td>0.857664</td><td>0.785111</td><td>1.135293</td><td>0.524769</td><td>0.826458</td><td>1.73621</td><td>-0.938226</td><td>0.758083</td><td>0.271354</td><td>0.897993</td><td>1.415872</td><td>-1.827826</td><td>-0.125381</td><td>-0.041113</td><td>-0.426758</td><td>0.176838</td><td>1.125998</td><td>0.261031</td><td>-0.643637</td><td>0.578061</td><td>-0.304098</td><td>0.060636</td><td>0.584176</td><td>0.032286</td><td>0.03832</td><td>0.041469</td><td>-0.531159</td><td>2024-01-11 12:00:00</td><td>&quot;2024-01-11&quot;</td><td>2025-04-17 19:02:12.704233</td></tr><tr><td>0.260502</td><td>0.967176</td><td>0.555212</td><td>-0.61504</td><td>0.76627</td><td>-0.925186</td><td>0.480897</td><td>-0.235919</td><td>0.812182</td><td>1.613933</td><td>-0.445129</td><td>0.549973</td><td>-0.609299</td><td>0.522792</td><td>0.278758</td><td>0.634589</td><td>0.543615</td><td>0.137902</td><td>-0.466583</td><td>1.209996</td><td>0.537671</td><td>-0.050027</td><td>-0.477772</td><td>-0.786519</td><td>-1.092286</td><td>-0.212257</td><td>-0.137671</td><td>-0.006566</td><td>0.381881</td><td>-0.506843</td><td>0.615316</td><td>-0.387729</td><td>0.110952</td><td>-0.545423</td><td>-0.360525</td><td>3.404713</td><td>0.735729</td><td>&hellip;</td><td>0.5701</td><td>0.818307</td><td>0.804803</td><td>-1.444816</td><td>1.322867</td><td>0.571716</td><td>-0.148453</td><td>-0.127829</td><td>-1.991979</td><td>-1.179303</td><td>-0.70273</td><td>-0.130235</td><td>0.240432</td><td>-0.129048</td><td>-1.790306</td><td>-0.626027</td><td>-1.437671</td><td>-1.207798</td><td>-0.902499</td><td>1.318494</td><td>-2.713516</td><td>-0.398022</td><td>1.509197</td><td>1.649137</td><td>-0.637024</td><td>0.354841</td><td>-0.957288</td><td>0.661199</td><td>0.475701</td><td>-1.4724</td><td>-0.641859</td><td>1.686563</td><td>-0.29677</td><td>-0.85631</td><td>2024-01-11 23:00:00</td><td>&quot;2024-01-11&quot;</td><td>2025-04-17 19:02:12.704233</td></tr><tr><td>-0.864765</td><td>1.156389</td><td>1.228351</td><td>-0.024259</td><td>-0.339312</td><td>0.177867</td><td>-0.57219</td><td>0.580769</td><td>-1.394551</td><td>2.061835</td><td>0.897363</td><td>1.414268</td><td>-0.091515</td><td>2.847492</td><td>0.320692</td><td>0.257678</td><td>0.740279</td><td>-1.473157</td><td>0.534095</td><td>-1.110847</td><td>-1.298702</td><td>1.667601</td><td>0.273055</td><td>-0.463201</td><td>-0.103117</td><td>-0.515568</td><td>0.210337</td><td>-0.22644</td><td>-0.307315</td><td>1.550064</td><td>0.214795</td><td>-1.172707</td><td>0.039101</td><td>0.18806</td><td>-0.025769</td><td>0.010227</td><td>-0.95386</td><td>&hellip;</td><td>0.056012</td><td>-0.43975</td><td>-1.185386</td><td>-0.339316</td><td>0.478308</td><td>-1.21903</td><td>-0.523621</td><td>0.263802</td><td>-0.276092</td><td>-1.473687</td><td>-0.346615</td><td>0.193233</td><td>1.441824</td><td>1.031626</td><td>-1.570141</td><td>-0.745494</td><td>-1.508064</td><td>-0.777473</td><td>-0.82946</td><td>0.174246</td><td>0.314607</td><td>1.353282</td><td>0.05665</td><td>-1.408198</td><td>-1.400709</td><td>0.078949</td><td>1.823418</td><td>-1.150218</td><td>-1.517444</td><td>-1.469747</td><td>0.503311</td><td>1.131863</td><td>-2.847815</td><td>-1.382221</td><td>2024-01-11 11:00:00</td><td>&quot;2024-01-11&quot;</td><td>2025-04-17 19:02:12.704233</td></tr><tr><td>&hellip;</td><td>&hellip;</td><td>&hellip;</td><td>&hellip;</td><td>&hellip;</td><td>&hellip;</td><td>&hellip;</td><td>&hellip;</td><td>&hellip;</td><td>&hellip;</td><td>&hellip;</td><td>&hellip;</td><td>&hellip;</td><td>&hellip;</td><td>&hellip;</td><td>&hellip;</td><td>&hellip;</td><td>&hellip;</td><td>&hellip;</td><td>&hellip;</td><td>&hellip;</td><td>&hellip;</td><td>&hellip;</td><td>&hellip;</td><td>&hellip;</td><td>&hellip;</td><td>&hellip;</td><td>&hellip;</td><td>&hellip;</td><td>&hellip;</td><td>&hellip;</td><td>&hellip;</td><td>&hellip;</td><td>&hellip;</td><td>&hellip;</td><td>&hellip;</td><td>&hellip;</td><td>&hellip;</td><td>&hellip;</td><td>&hellip;</td><td>&hellip;</td><td>&hellip;</td><td>&hellip;</td><td>&hellip;</td><td>&hellip;</td><td>&hellip;</td><td>&hellip;</td><td>&hellip;</td><td>&hellip;</td><td>&hellip;</td><td>&hellip;</td><td>&hellip;</td><td>&hellip;</td><td>&hellip;</td><td>&hellip;</td><td>&hellip;</td><td>&hellip;</td><td>&hellip;</td><td>&hellip;</td><td>&hellip;</td><td>&hellip;</td><td>&hellip;</td><td>&hellip;</td><td>&hellip;</td><td>&hellip;</td><td>&hellip;</td><td>&hellip;</td><td>&hellip;</td><td>&hellip;</td><td>&hellip;</td><td>&hellip;</td><td>&hellip;</td><td>&hellip;</td><td>&hellip;</td><td>&hellip;</td></tr><tr><td>-1.691717</td><td>-0.744815</td><td>0.201078</td><td>0.566011</td><td>1.540691</td><td>0.399233</td><td>-1.323482</td><td>2.019316</td><td>0.203141</td><td>0.607706</td><td>0.237478</td><td>-0.356129</td><td>-0.717701</td><td>-0.52146</td><td>-0.099361</td><td>0.464574</td><td>0.066763</td><td>-1.624125</td><td>-1.854281</td><td>-0.2708</td><td>0.853209</td><td>0.006006</td><td>0.100764</td><td>-0.739695</td><td>0.24677</td><td>-0.752867</td><td>0.54488</td><td>-1.116195</td><td>-0.018471</td><td>-0.90677</td><td>0.824437</td><td>-0.990138</td><td>0.195483</td><td>0.315355</td><td>-1.807141</td><td>0.82453</td><td>-0.016509</td><td>&hellip;</td><td>1.341174</td><td>1.075404</td><td>-0.876108</td><td>-0.374525</td><td>-1.219053</td><td>0.473828</td><td>-0.492097</td><td>-0.806287</td><td>1.58102</td><td>-0.494004</td><td>-0.692778</td><td>0.276869</td><td>-0.335677</td><td>-0.957662</td><td>-0.070758</td><td>-1.628151</td><td>-0.54764</td><td>-2.30606</td><td>0.182921</td><td>0.519808</td><td>0.966513</td><td>0.499966</td><td>0.783426</td><td>-2.537557</td><td>0.990902</td><td>-1.011841</td><td>-1.262089</td><td>1.040657</td><td>-2.477064</td><td>1.171353</td><td>-1.068084</td><td>-0.170662</td><td>0.030143</td><td>-0.503325</td><td>2024-01-07 19:00:00</td><td>&quot;2024-01-07&quot;</td><td>2025-04-17 19:02:12.704233</td></tr><tr><td>-0.065545</td><td>-1.645177</td><td>-1.021853</td><td>-1.885713</td><td>0.923965</td><td>-0.502536</td><td>-0.086883</td><td>0.63817</td><td>0.49162</td><td>-0.153505</td><td>-0.905275</td><td>-0.442491</td><td>2.181309</td><td>0.930073</td><td>-0.840546</td><td>1.256538</td><td>1.509254</td><td>-0.574763</td><td>-1.222918</td><td>-0.615249</td><td>-0.588079</td><td>-1.322738</td><td>1.915846</td><td>-0.212247</td><td>-0.153712</td><td>-0.699424</td><td>-0.086063</td><td>-0.642452</td><td>0.879866</td><td>0.071829</td><td>-0.357546</td><td>1.31661</td><td>1.135666</td><td>-0.524987</td><td>0.657122</td><td>-1.045444</td><td>-1.441163</td><td>&hellip;</td><td>1.38531</td><td>0.014527</td><td>0.24386</td><td>1.135283</td><td>-0.537799</td><td>-0.416483</td><td>-0.639497</td><td>-0.517148</td><td>0.050859</td><td>1.597329</td><td>0.682543</td><td>-0.18466</td><td>0.256475</td><td>-0.572967</td><td>1.379965</td><td>-0.232886</td><td>-1.839173</td><td>-0.326585</td><td>-1.491257</td><td>-0.015481</td><td>0.588496</td><td>-0.673582</td><td>-0.311367</td><td>0.237892</td><td>-1.716662</td><td>-0.093063</td><td>-1.968077</td><td>0.610446</td><td>-1.29108</td><td>-2.17014</td><td>0.156392</td><td>0.008889</td><td>1.947558</td><td>-0.490139</td><td>2024-01-07 20:00:00</td><td>&quot;2024-01-07&quot;</td><td>2025-04-17 19:02:12.704233</td></tr><tr><td>1.143357</td><td>0.050571</td><td>-0.379336</td><td>-1.78549</td><td>1.580182</td><td>0.837291</td><td>-0.845568</td><td>0.196606</td><td>-0.11999</td><td>-0.758141</td><td>-0.333384</td><td>0.783031</td><td>-0.848478</td><td>1.300061</td><td>-0.84313</td><td>-2.027073</td><td>0.072865</td><td>-0.085156</td><td>-0.056715</td><td>-0.819623</td><td>2.257338</td><td>-1.83607</td><td>-0.41652</td><td>1.077996</td><td>-0.609072</td><td>0.845764</td><td>0.784254</td><td>0.71996</td><td>0.129489</td><td>-0.479855</td><td>-1.161188</td><td>-1.049479</td><td>1.608951</td><td>-0.979068</td><td>-0.771619</td><td>-0.083338</td><td>-0.240513</td><td>&hellip;</td><td>0.367213</td><td>0.942803</td><td>0.796168</td><td>0.193655</td><td>1.064788</td><td>2.414097</td><td>0.93335</td><td>-1.139122</td><td>0.588356</td><td>0.864025</td><td>-0.32614</td><td>0.060843</td><td>-1.166426</td><td>-0.954361</td><td>-0.751166</td><td>0.694421</td><td>-0.390256</td><td>-1.229844</td><td>0.28342</td><td>-0.100707</td><td>-1.315238</td><td>0.141419</td><td>-0.141412</td><td>-0.028612</td><td>-1.882194</td><td>0.935366</td><td>-0.833313</td><td>-2.163129</td><td>1.00673</td><td>-0.009575</td><td>-0.418768</td><td>-0.063194</td><td>1.261519</td><td>0.32743</td><td>2024-01-07 21:00:00</td><td>&quot;2024-01-07&quot;</td><td>2025-04-17 19:02:12.704233</td></tr><tr><td>1.449011</td><td>1.479895</td><td>-0.685338</td><td>0.457133</td><td>-0.227621</td><td>-0.924858</td><td>-0.360886</td><td>-0.428995</td><td>0.915847</td><td>0.001382</td><td>-0.884287</td><td>-0.545292</td><td>-0.396054</td><td>0.89559</td><td>-0.059158</td><td>-1.167632</td><td>2.007026</td><td>0.881977</td><td>0.305466</td><td>0.451103</td><td>-1.384853</td><td>-0.857301</td><td>0.378187</td><td>1.883683</td><td>-0.908683</td><td>0.253084</td><td>1.933476</td><td>0.445864</td><td>0.523025</td><td>-1.574879</td><td>0.68298</td><td>-0.536543</td><td>-0.050041</td><td>0.117271</td><td>-1.037426</td><td>0.68755</td><td>-1.333929</td><td>&hellip;</td><td>0.14577</td><td>0.163485</td><td>-0.138486</td><td>-0.53241</td><td>-1.747572</td><td>-0.459065</td><td>-1.267444</td><td>0.023334</td><td>-0.713404</td><td>0.742262</td><td>-0.310041</td><td>-0.188394</td><td>-0.351299</td><td>-1.101191</td><td>-1.691468</td><td>-0.876161</td><td>0.680491</td><td>0.325331</td><td>0.217339</td><td>-0.319492</td><td>1.932806</td><td>1.19466</td><td>-0.043554</td><td>0.485749</td><td>1.034116</td><td>-0.621734</td><td>-0.921623</td><td>-0.542757</td><td>1.950605</td><td>-0.391362</td><td>1.457839</td><td>-1.020449</td><td>-0.48934</td><td>-0.22018</td><td>2024-01-07 22:00:00</td><td>&quot;2024-01-07&quot;</td><td>2025-04-17 19:02:12.704233</td></tr><tr><td>-0.707796</td><td>-0.268785</td><td>1.218695</td><td>1.345416</td><td>-1.413424</td><td>-0.950272</td><td>2.541744</td><td>-2.681052</td><td>1.199688</td><td>0.970828</td><td>-0.612664</td><td>0.744619</td><td>-0.356498</td><td>0.042234</td><td>-1.874549</td><td>-0.382285</td><td>0.58578</td><td>1.770078</td><td>0.883265</td><td>-2.290242</td><td>1.144813</td><td>-0.024147</td><td>-0.194392</td><td>2.040098</td><td>-0.339679</td><td>0.163544</td><td>0.061475</td><td>0.399734</td><td>1.386636</td><td>0.390583</td><td>0.245854</td><td>-0.558537</td><td>-0.031751</td><td>0.809722</td><td>0.912962</td><td>1.285857</td><td>0.704113</td><td>&hellip;</td><td>-0.087695</td><td>-0.18</td><td>-1.100549</td><td>0.699792</td><td>-0.643738</td><td>-1.534535</td><td>-0.507379</td><td>-0.491396</td><td>-0.693421</td><td>-0.097237</td><td>0.065131</td><td>0.00274</td><td>2.40928</td><td>-1.111615</td><td>0.210737</td><td>-2.064081</td><td>0.474062</td><td>-0.881636</td><td>1.175334</td><td>-2.621259</td><td>-0.311144</td><td>-1.736353</td><td>-1.021506</td><td>-0.251413</td><td>-1.251181</td><td>1.16573</td><td>-0.336638</td><td>0.58529</td><td>-0.43827</td><td>0.194839</td><td>-0.383011</td><td>1.215436</td><td>0.275536</td><td>1.224719</td><td>2024-01-07 23:00:00</td><td>&quot;2024-01-07&quot;</td><td>2025-04-17 19:02:12.704233</td></tr></tbody></table></div>"
      ],
      "text/plain": [
       "shape: (720, 103)\n",
       "┌───────────┬───────────┬───────────┬───────────┬───┬───────────┬───────────┬───────────┬──────────┐\n",
       "│ feature_0 ┆ feature_1 ┆ feature_2 ┆ feature_3 ┆ … ┆ feature_9 ┆ date      ┆ date_day  ┆ inserted │\n",
       "│ ---       ┆ ---       ┆ ---       ┆ ---       ┆   ┆ 9         ┆ ---       ┆ ---       ┆ _at      │\n",
       "│ f64       ┆ f64       ┆ f64       ┆ f64       ┆   ┆ ---       ┆ datetime[ ┆ str       ┆ ---      │\n",
       "│           ┆           ┆           ┆           ┆   ┆ f64       ┆ μs]       ┆           ┆ datetime │\n",
       "│           ┆           ┆           ┆           ┆   ┆           ┆           ┆           ┆ [μs]     │\n",
       "╞═══════════╪═══════════╪═══════════╪═══════════╪═══╪═══════════╪═══════════╪═══════════╪══════════╡\n",
       "│ -0.144268 ┆ -1.857755 ┆ 0.543574  ┆ -1.435836 ┆ … ┆ 1.319225  ┆ 2024-01-1 ┆ 2024-01-1 ┆ 2025-04- │\n",
       "│           ┆           ┆           ┆           ┆   ┆           ┆ 1         ┆ 1         ┆ 17 19:02 │\n",
       "│           ┆           ┆           ┆           ┆   ┆           ┆ 16:00:00  ┆           ┆ :12.7042 │\n",
       "│           ┆           ┆           ┆           ┆   ┆           ┆           ┆           ┆ 33       │\n",
       "│ -0.257991 ┆ 0.43048   ┆ 0.376801  ┆ -0.921056 ┆ … ┆ -1.697973 ┆ 2024-01-1 ┆ 2024-01-1 ┆ 2025-04- │\n",
       "│           ┆           ┆           ┆           ┆   ┆           ┆ 1         ┆ 1         ┆ 17 19:02 │\n",
       "│           ┆           ┆           ┆           ┆   ┆           ┆ 18:00:00  ┆           ┆ :12.7042 │\n",
       "│           ┆           ┆           ┆           ┆   ┆           ┆           ┆           ┆ 33       │\n",
       "│ -0.439295 ┆ -0.700858 ┆ -0.312366 ┆ 1.318895  ┆ … ┆ -0.531159 ┆ 2024-01-1 ┆ 2024-01-1 ┆ 2025-04- │\n",
       "│           ┆           ┆           ┆           ┆   ┆           ┆ 1         ┆ 1         ┆ 17 19:02 │\n",
       "│           ┆           ┆           ┆           ┆   ┆           ┆ 12:00:00  ┆           ┆ :12.7042 │\n",
       "│           ┆           ┆           ┆           ┆   ┆           ┆           ┆           ┆ 33       │\n",
       "│ 0.260502  ┆ 0.967176  ┆ 0.555212  ┆ -0.61504  ┆ … ┆ -0.85631  ┆ 2024-01-1 ┆ 2024-01-1 ┆ 2025-04- │\n",
       "│           ┆           ┆           ┆           ┆   ┆           ┆ 1         ┆ 1         ┆ 17 19:02 │\n",
       "│           ┆           ┆           ┆           ┆   ┆           ┆ 23:00:00  ┆           ┆ :12.7042 │\n",
       "│           ┆           ┆           ┆           ┆   ┆           ┆           ┆           ┆ 33       │\n",
       "│ -0.864765 ┆ 1.156389  ┆ 1.228351  ┆ -0.024259 ┆ … ┆ -1.382221 ┆ 2024-01-1 ┆ 2024-01-1 ┆ 2025-04- │\n",
       "│           ┆           ┆           ┆           ┆   ┆           ┆ 1         ┆ 1         ┆ 17 19:02 │\n",
       "│           ┆           ┆           ┆           ┆   ┆           ┆ 11:00:00  ┆           ┆ :12.7042 │\n",
       "│           ┆           ┆           ┆           ┆   ┆           ┆           ┆           ┆ 33       │\n",
       "│ …         ┆ …         ┆ …         ┆ …         ┆ … ┆ …         ┆ …         ┆ …         ┆ …        │\n",
       "│ -1.691717 ┆ -0.744815 ┆ 0.201078  ┆ 0.566011  ┆ … ┆ -0.503325 ┆ 2024-01-0 ┆ 2024-01-0 ┆ 2025-04- │\n",
       "│           ┆           ┆           ┆           ┆   ┆           ┆ 7         ┆ 7         ┆ 17 19:02 │\n",
       "│           ┆           ┆           ┆           ┆   ┆           ┆ 19:00:00  ┆           ┆ :12.7042 │\n",
       "│           ┆           ┆           ┆           ┆   ┆           ┆           ┆           ┆ 33       │\n",
       "│ -0.065545 ┆ -1.645177 ┆ -1.021853 ┆ -1.885713 ┆ … ┆ -0.490139 ┆ 2024-01-0 ┆ 2024-01-0 ┆ 2025-04- │\n",
       "│           ┆           ┆           ┆           ┆   ┆           ┆ 7         ┆ 7         ┆ 17 19:02 │\n",
       "│           ┆           ┆           ┆           ┆   ┆           ┆ 20:00:00  ┆           ┆ :12.7042 │\n",
       "│           ┆           ┆           ┆           ┆   ┆           ┆           ┆           ┆ 33       │\n",
       "│ 1.143357  ┆ 0.050571  ┆ -0.379336 ┆ -1.78549  ┆ … ┆ 0.32743   ┆ 2024-01-0 ┆ 2024-01-0 ┆ 2025-04- │\n",
       "│           ┆           ┆           ┆           ┆   ┆           ┆ 7         ┆ 7         ┆ 17 19:02 │\n",
       "│           ┆           ┆           ┆           ┆   ┆           ┆ 21:00:00  ┆           ┆ :12.7042 │\n",
       "│           ┆           ┆           ┆           ┆   ┆           ┆           ┆           ┆ 33       │\n",
       "│ 1.449011  ┆ 1.479895  ┆ -0.685338 ┆ 0.457133  ┆ … ┆ -0.22018  ┆ 2024-01-0 ┆ 2024-01-0 ┆ 2025-04- │\n",
       "│           ┆           ┆           ┆           ┆   ┆           ┆ 7         ┆ 7         ┆ 17 19:02 │\n",
       "│           ┆           ┆           ┆           ┆   ┆           ┆ 22:00:00  ┆           ┆ :12.7042 │\n",
       "│           ┆           ┆           ┆           ┆   ┆           ┆           ┆           ┆ 33       │\n",
       "│ -0.707796 ┆ -0.268785 ┆ 1.218695  ┆ 1.345416  ┆ … ┆ 1.224719  ┆ 2024-01-0 ┆ 2024-01-0 ┆ 2025-04- │\n",
       "│           ┆           ┆           ┆           ┆   ┆           ┆ 7         ┆ 7         ┆ 17 19:02 │\n",
       "│           ┆           ┆           ┆           ┆   ┆           ┆ 23:00:00  ┆           ┆ :12.7042 │\n",
       "│           ┆           ┆           ┆           ┆   ┆           ┆           ┆           ┆ 33       │\n",
       "└───────────┴───────────┴───────────┴───────────┴───┴───────────┴───────────┴───────────┴──────────┘"
      ]
     },
     "execution_count": 7,
     "metadata": {},
     "output_type": "execute_result"
    }
   ],
   "source": [
    "df"
   ]
  },
  {
   "cell_type": "markdown",
   "id": "592b65a3",
   "metadata": {},
   "source": [
    "# We try to create a timelake on S3\n"
   ]
  },
  {
   "cell_type": "code",
   "execution_count": 4,
   "id": "77449aaa",
   "metadata": {},
   "outputs": [],
   "source": [
    "import dotenv\n",
    "\n",
    "dotenv.load_dotenv()\n",
    "lake = TimeLake.create(\n",
    "    path=\"s3://my-time-lake\",\n",
    "    df=df,\n",
    "    timestamp_column=\"date\",\n",
    "    storage_type=StorageType.S3,\n",
    ")"
   ]
  },
  {
   "cell_type": "code",
   "execution_count": 9,
   "id": "b7dbe9fb",
   "metadata": {},
   "outputs": [
    {
     "data": {
      "text/plain": [
       "(72, 103)"
      ]
     },
     "execution_count": 9,
     "metadata": {},
     "output_type": "execute_result"
    }
   ],
   "source": [
    "lake.read(start_date=\"2024-01-01\", end_date=\"2024-01-03\").shape"
   ]
  }
 ],
 "metadata": {
  "kernelspec": {
   "display_name": ".venv",
   "language": "python",
   "name": "python3"
  },
  "language_info": {
   "codemirror_mode": {
    "name": "ipython",
    "version": 3
   },
   "file_extension": ".py",
   "mimetype": "text/x-python",
   "name": "python",
   "nbconvert_exporter": "python",
   "pygments_lexer": "ipython3",
   "version": "3.10.13"
  }
 },
 "nbformat": 4,
 "nbformat_minor": 5
}
