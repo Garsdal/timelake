{
 "cells": [
  {
   "cell_type": "code",
   "execution_count": 4,
   "id": "877bc096",
   "metadata": {},
   "outputs": [],
   "source": [
    "from datetime import datetime, timedelta\n",
    "from pathlib import Path\n",
    "\n",
    "import polars as pl\n",
    "from sklearn.datasets import make_regression\n",
    "\n",
    "from timelake import TimeLake"
   ]
  },
  {
   "cell_type": "code",
   "execution_count": 5,
   "id": "55486c3a",
   "metadata": {},
   "outputs": [],
   "source": [
    "# Params\n",
    "n_hours = 24 * 30  # 30 days\n",
    "n_features = 100\n",
    "\n",
    "# Generate regression features\n",
    "X, _ = make_regression(n_samples=n_hours, n_features=n_features)\n",
    "timestamps = [datetime(2024, 1, 1) + timedelta(hours=i) for i in range(n_hours)]\n",
    "\n",
    "# Create Polars DataFrame\n",
    "df = pl.DataFrame(X, schema=[f\"feature_{i}\" for i in range(n_features)])\n",
    "df = df.with_columns(pl.Series(\"date\", timestamps))"
   ]
  },
  {
   "cell_type": "code",
   "execution_count": 6,
   "id": "259ac74b",
   "metadata": {},
   "outputs": [
    {
     "data": {
      "text/plain": [
       "(720, 103)"
      ]
     },
     "execution_count": 6,
     "metadata": {},
     "output_type": "execute_result"
    }
   ],
   "source": [
    "PATH = Path(\"./my-test-timelake\")\n",
    "\n",
    "lake = TimeLake.create(\n",
    "    path=PATH,\n",
    "    df=df,\n",
    "    timestamp_column=\"date\",\n",
    ")\n",
    "df = lake.read()\n",
    "df.shape"
   ]
  },
  {
   "cell_type": "code",
   "execution_count": 8,
   "id": "8e7e7c06",
   "metadata": {},
   "outputs": [
    {
     "data": {
      "text/plain": [
       "(72, 103)"
      ]
     },
     "execution_count": 8,
     "metadata": {},
     "output_type": "execute_result"
    }
   ],
   "source": [
    "lake.read(start_date=\"2024-01-01\", end_date=\"2024-01-03\").shape"
   ]
  }
 ],
 "metadata": {
  "kernelspec": {
   "display_name": ".venv",
   "language": "python",
   "name": "python3"
  },
  "language_info": {
   "codemirror_mode": {
    "name": "ipython",
    "version": 3
   },
   "file_extension": ".py",
   "mimetype": "text/x-python",
   "name": "python",
   "nbconvert_exporter": "python",
   "pygments_lexer": "ipython3",
   "version": "3.10.13"
  }
 },
 "nbformat": 4,
 "nbformat_minor": 5
}
