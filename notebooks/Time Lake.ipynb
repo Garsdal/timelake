{
 "cells": [
  {
   "cell_type": "code",
   "execution_count": 1,
   "id": "877bc096",
   "metadata": {},
   "outputs": [],
   "source": [
    "from datetime import datetime, timedelta\n",
    "from pathlib import Path\n",
    "\n",
    "import polars as pl\n",
    "from sklearn.datasets import make_regression\n",
    "\n",
    "from timelake import TimeLake"
   ]
  },
  {
   "cell_type": "code",
   "execution_count": 2,
   "id": "55486c3a",
   "metadata": {},
   "outputs": [],
   "source": [
    "# Params\n",
    "n_hours = 24 * 30  # 30 days\n",
    "n_features = 100\n",
    "\n",
    "# Generate regression features\n",
    "X, _ = make_regression(n_samples=n_hours, n_features=n_features)\n",
    "timestamps = [datetime(2024, 1, 1) + timedelta(hours=i) for i in range(n_hours)]\n",
    "\n",
    "# Create Polars DataFrame\n",
    "df = pl.DataFrame(X, schema=[f\"feature_{i}\" for i in range(n_features)])\n",
    "df = df.with_columns(pl.Series(\"date\", timestamps))"
   ]
  },
  {
   "cell_type": "code",
   "execution_count": 3,
   "id": "259ac74b",
   "metadata": {},
   "outputs": [
    {
     "data": {
      "text/plain": [
       "(720, 103)"
      ]
     },
     "execution_count": 3,
     "metadata": {},
     "output_type": "execute_result"
    }
   ],
   "source": [
    "PATH = Path(\"./my-test-timelake\")\n",
    "\n",
    "lake = TimeLake.create(\n",
    "    path=PATH,\n",
    "    df=df,\n",
    "    timestamp_column=\"date\",\n",
    ")\n",
    "df = lake.read()\n",
    "df.shape"
   ]
  },
  {
   "cell_type": "code",
   "execution_count": 4,
   "id": "8e7e7c06",
   "metadata": {},
   "outputs": [
    {
     "data": {
      "text/plain": [
       "(72, 103)"
      ]
     },
     "execution_count": 4,
     "metadata": {},
     "output_type": "execute_result"
    }
   ],
   "source": [
    "lake.read(start_date=\"2024-01-01\", end_date=\"2024-01-03\").shape"
   ]
  },
  {
   "cell_type": "code",
   "execution_count": null,
   "id": "f0f5895a",
   "metadata": {},
   "outputs": [],
   "source": [
    "df_update = df[0:10]\n",
    "lake.upsert(df_update)"
   ]
  },
  {
   "cell_type": "code",
   "execution_count": 12,
   "id": "48dac631",
   "metadata": {},
   "outputs": [
    {
     "data": {
      "text/plain": [
       "(720, 103)"
      ]
     },
     "execution_count": 12,
     "metadata": {},
     "output_type": "execute_result"
    }
   ],
   "source": [
    "df = lake.read()\n",
    "df.shape"
   ]
  },
  {
   "cell_type": "code",
   "execution_count": 16,
   "id": "1c78ccd0",
   "metadata": {},
   "outputs": [
    {
     "data": {
      "text/html": [
       "<div><style>\n",
       ".dataframe > thead > tr,\n",
       ".dataframe > tbody > tr {\n",
       "  text-align: right;\n",
       "  white-space: pre-wrap;\n",
       "}\n",
       "</style>\n",
       "<small>shape: (720, 103)</small><table border=\"1\" class=\"dataframe\"><thead><tr><th>feature_0</th><th>feature_1</th><th>feature_2</th><th>feature_3</th><th>feature_4</th><th>feature_5</th><th>feature_6</th><th>feature_7</th><th>feature_8</th><th>feature_9</th><th>feature_10</th><th>feature_11</th><th>feature_12</th><th>feature_13</th><th>feature_14</th><th>feature_15</th><th>feature_16</th><th>feature_17</th><th>feature_18</th><th>feature_19</th><th>feature_20</th><th>feature_21</th><th>feature_22</th><th>feature_23</th><th>feature_24</th><th>feature_25</th><th>feature_26</th><th>feature_27</th><th>feature_28</th><th>feature_29</th><th>feature_30</th><th>feature_31</th><th>feature_32</th><th>feature_33</th><th>feature_34</th><th>feature_35</th><th>feature_36</th><th>&hellip;</th><th>feature_66</th><th>feature_67</th><th>feature_68</th><th>feature_69</th><th>feature_70</th><th>feature_71</th><th>feature_72</th><th>feature_73</th><th>feature_74</th><th>feature_75</th><th>feature_76</th><th>feature_77</th><th>feature_78</th><th>feature_79</th><th>feature_80</th><th>feature_81</th><th>feature_82</th><th>feature_83</th><th>feature_84</th><th>feature_85</th><th>feature_86</th><th>feature_87</th><th>feature_88</th><th>feature_89</th><th>feature_90</th><th>feature_91</th><th>feature_92</th><th>feature_93</th><th>feature_94</th><th>feature_95</th><th>feature_96</th><th>feature_97</th><th>feature_98</th><th>feature_99</th><th>date</th><th>inserted_at</th><th>date_day</th></tr><tr><td>f64</td><td>f64</td><td>f64</td><td>f64</td><td>f64</td><td>f64</td><td>f64</td><td>f64</td><td>f64</td><td>f64</td><td>f64</td><td>f64</td><td>f64</td><td>f64</td><td>f64</td><td>f64</td><td>f64</td><td>f64</td><td>f64</td><td>f64</td><td>f64</td><td>f64</td><td>f64</td><td>f64</td><td>f64</td><td>f64</td><td>f64</td><td>f64</td><td>f64</td><td>f64</td><td>f64</td><td>f64</td><td>f64</td><td>f64</td><td>f64</td><td>f64</td><td>f64</td><td>&hellip;</td><td>f64</td><td>f64</td><td>f64</td><td>f64</td><td>f64</td><td>f64</td><td>f64</td><td>f64</td><td>f64</td><td>f64</td><td>f64</td><td>f64</td><td>f64</td><td>f64</td><td>f64</td><td>f64</td><td>f64</td><td>f64</td><td>f64</td><td>f64</td><td>f64</td><td>f64</td><td>f64</td><td>f64</td><td>f64</td><td>f64</td><td>f64</td><td>f64</td><td>f64</td><td>f64</td><td>f64</td><td>f64</td><td>f64</td><td>f64</td><td>datetime[μs]</td><td>str</td><td>str</td></tr></thead><tbody><tr><td>0.119926</td><td>0.275178</td><td>0.195489</td><td>0.159864</td><td>0.018352</td><td>-0.991033</td><td>1.192347</td><td>-0.219096</td><td>1.240684</td><td>2.335493</td><td>2.349359</td><td>-0.469634</td><td>1.510104</td><td>0.464336</td><td>-0.402361</td><td>2.166113</td><td>0.039769</td><td>0.832871</td><td>1.071859</td><td>-1.04632</td><td>-1.547964</td><td>0.079925</td><td>0.878948</td><td>2.090055</td><td>-0.799886</td><td>0.556151</td><td>0.075046</td><td>0.802693</td><td>-1.264853</td><td>-0.37707</td><td>-0.487008</td><td>-0.053728</td><td>0.892132</td><td>1.526157</td><td>0.231444</td><td>-0.35526</td><td>0.926419</td><td>&hellip;</td><td>0.149383</td><td>-0.562098</td><td>1.327944</td><td>-0.600175</td><td>0.003064</td><td>0.336039</td><td>0.295889</td><td>0.754015</td><td>1.480219</td><td>-0.665161</td><td>1.11667</td><td>0.010121</td><td>-0.556816</td><td>0.634186</td><td>-0.144419</td><td>-0.849553</td><td>0.712189</td><td>-0.30911</td><td>-0.226071</td><td>-1.046631</td><td>-1.028232</td><td>0.661688</td><td>-0.264409</td><td>1.981546</td><td>0.459908</td><td>-0.209635</td><td>-0.775015</td><td>0.117877</td><td>-0.491636</td><td>-1.979345</td><td>-0.205979</td><td>-2.013424</td><td>-1.465226</td><td>-0.476372</td><td>2024-01-15 14:00:00</td><td>&quot;2025-04-17T18:16:58.587932&quot;</td><td>&quot;2024-01-15&quot;</td></tr><tr><td>0.338291</td><td>0.108185</td><td>-0.412352</td><td>-0.790004</td><td>-0.756979</td><td>-1.324491</td><td>2.481011</td><td>0.858564</td><td>0.916955</td><td>-0.380794</td><td>-1.623711</td><td>0.245819</td><td>0.834382</td><td>-0.617785</td><td>1.536376</td><td>-0.327061</td><td>1.320967</td><td>-0.549384</td><td>-0.704132</td><td>0.07051</td><td>-0.240929</td><td>-0.051376</td><td>-1.031343</td><td>-0.93948</td><td>0.126853</td><td>-1.422607</td><td>0.572524</td><td>-0.543148</td><td>0.377686</td><td>0.149974</td><td>0.116917</td><td>0.239105</td><td>-0.506251</td><td>-0.548299</td><td>-0.043831</td><td>-0.096179</td><td>-1.849419</td><td>&hellip;</td><td>2.247015</td><td>0.908785</td><td>-1.151682</td><td>-0.734505</td><td>0.250367</td><td>-1.396002</td><td>-0.933688</td><td>0.138516</td><td>0.962714</td><td>-0.615709</td><td>-0.543536</td><td>1.02188</td><td>-0.922119</td><td>1.381878</td><td>-0.156537</td><td>0.239485</td><td>0.14866</td><td>-0.89695</td><td>-0.675406</td><td>1.11569</td><td>1.215247</td><td>1.626578</td><td>0.819034</td><td>0.407637</td><td>-0.014184</td><td>-1.560637</td><td>2.624124</td><td>1.479093</td><td>-0.617063</td><td>0.160537</td><td>-0.265706</td><td>-0.556065</td><td>-1.258252</td><td>-0.595168</td><td>2024-01-15 16:00:00</td><td>&quot;2025-04-17T18:16:58.587932&quot;</td><td>&quot;2024-01-15&quot;</td></tr><tr><td>-0.619267</td><td>-0.399609</td><td>-0.368632</td><td>1.460601</td><td>-0.918442</td><td>0.410297</td><td>-2.978407</td><td>0.524958</td><td>-0.267518</td><td>0.855575</td><td>0.653046</td><td>-0.836091</td><td>-0.896691</td><td>-1.521548</td><td>0.624379</td><td>0.63805</td><td>-1.086626</td><td>0.735449</td><td>-0.070526</td><td>-0.243964</td><td>0.945058</td><td>0.128053</td><td>-0.55201</td><td>-1.710433</td><td>-0.651977</td><td>0.466399</td><td>-0.957148</td><td>-0.689574</td><td>-0.648061</td><td>0.985517</td><td>-1.218978</td><td>1.577356</td><td>-0.434737</td><td>-0.250232</td><td>0.427606</td><td>0.465693</td><td>0.172637</td><td>&hellip;</td><td>-0.488085</td><td>-1.16916</td><td>1.408746</td><td>1.137914</td><td>-1.393379</td><td>-0.572487</td><td>1.393337</td><td>-0.839072</td><td>-1.88679</td><td>-1.962284</td><td>-0.247022</td><td>-0.503479</td><td>-0.122262</td><td>-0.931687</td><td>1.197809</td><td>-0.176488</td><td>-0.098953</td><td>-0.566606</td><td>-1.207429</td><td>-1.586686</td><td>0.287062</td><td>2.024653</td><td>-0.940682</td><td>-0.341898</td><td>-0.332674</td><td>-0.088957</td><td>0.288153</td><td>0.783845</td><td>-0.807188</td><td>0.142228</td><td>-0.189122</td><td>-0.45363</td><td>-2.153064</td><td>1.085369</td><td>2024-01-15 23:00:00</td><td>&quot;2025-04-17T18:16:58.587932&quot;</td><td>&quot;2024-01-15&quot;</td></tr><tr><td>0.457261</td><td>-0.753671</td><td>0.720189</td><td>0.568804</td><td>-0.329791</td><td>-0.287237</td><td>1.025979</td><td>1.138019</td><td>-0.594068</td><td>-0.485361</td><td>0.10559</td><td>0.74717</td><td>0.515755</td><td>-0.306867</td><td>0.734815</td><td>-0.132498</td><td>1.892897</td><td>0.36188</td><td>-0.310265</td><td>1.00066</td><td>-0.529174</td><td>1.099848</td><td>1.047144</td><td>1.14776</td><td>-1.217992</td><td>0.264382</td><td>-1.679362</td><td>0.187096</td><td>-1.05539</td><td>1.045645</td><td>0.228032</td><td>0.419729</td><td>-1.343534</td><td>-0.338295</td><td>0.686218</td><td>0.249934</td><td>-0.122615</td><td>&hellip;</td><td>-1.250595</td><td>-0.48611</td><td>0.100468</td><td>-0.749221</td><td>0.932656</td><td>0.30221</td><td>0.052478</td><td>-1.37879</td><td>-1.730779</td><td>-1.361796</td><td>0.403709</td><td>-1.457474</td><td>-1.007624</td><td>0.191312</td><td>0.190187</td><td>1.755039</td><td>-0.220086</td><td>-0.004223</td><td>0.423786</td><td>-0.211603</td><td>-0.978246</td><td>-0.851317</td><td>-1.378762</td><td>-0.514724</td><td>-0.114843</td><td>-1.470855</td><td>-1.065317</td><td>-0.876299</td><td>0.416559</td><td>-1.032616</td><td>-0.735569</td><td>0.02923</td><td>-0.985451</td><td>1.429701</td><td>2024-01-15 07:00:00</td><td>&quot;2025-04-17T18:18:55.956637&quot;</td><td>&quot;2024-01-15&quot;</td></tr><tr><td>-1.120167</td><td>0.541775</td><td>0.994673</td><td>0.183753</td><td>0.96963</td><td>0.492623</td><td>-0.442984</td><td>-2.449251</td><td>0.550685</td><td>0.269264</td><td>-0.877749</td><td>0.554272</td><td>-0.558609</td><td>-0.17951</td><td>-1.032213</td><td>0.411548</td><td>0.600389</td><td>-1.227259</td><td>1.040027</td><td>0.830845</td><td>-1.162547</td><td>-0.70003</td><td>-2.902287</td><td>-0.746396</td><td>-0.513494</td><td>2.50127</td><td>0.231454</td><td>0.509553</td><td>-3.013756</td><td>-0.288161</td><td>0.330701</td><td>0.072236</td><td>0.894998</td><td>0.407282</td><td>-0.903661</td><td>0.6195</td><td>-0.6243</td><td>&hellip;</td><td>-0.188927</td><td>1.034789</td><td>2.479469</td><td>0.44724</td><td>0.545212</td><td>0.705676</td><td>0.152987</td><td>-1.748877</td><td>-0.819611</td><td>-1.169574</td><td>1.180092</td><td>2.519444</td><td>1.258804</td><td>1.581529</td><td>-1.256346</td><td>0.876273</td><td>0.275517</td><td>0.054384</td><td>0.825762</td><td>0.465158</td><td>-0.244461</td><td>-1.030651</td><td>-1.340989</td><td>-0.69047</td><td>1.714624</td><td>0.779907</td><td>0.581133</td><td>1.096542</td><td>-1.87449</td><td>-1.007829</td><td>-1.213703</td><td>-1.793811</td><td>1.195191</td><td>0.333755</td><td>2024-01-15 12:00:00</td><td>&quot;2025-04-17T18:16:58.587932&quot;</td><td>&quot;2024-01-15&quot;</td></tr><tr><td>&hellip;</td><td>&hellip;</td><td>&hellip;</td><td>&hellip;</td><td>&hellip;</td><td>&hellip;</td><td>&hellip;</td><td>&hellip;</td><td>&hellip;</td><td>&hellip;</td><td>&hellip;</td><td>&hellip;</td><td>&hellip;</td><td>&hellip;</td><td>&hellip;</td><td>&hellip;</td><td>&hellip;</td><td>&hellip;</td><td>&hellip;</td><td>&hellip;</td><td>&hellip;</td><td>&hellip;</td><td>&hellip;</td><td>&hellip;</td><td>&hellip;</td><td>&hellip;</td><td>&hellip;</td><td>&hellip;</td><td>&hellip;</td><td>&hellip;</td><td>&hellip;</td><td>&hellip;</td><td>&hellip;</td><td>&hellip;</td><td>&hellip;</td><td>&hellip;</td><td>&hellip;</td><td>&hellip;</td><td>&hellip;</td><td>&hellip;</td><td>&hellip;</td><td>&hellip;</td><td>&hellip;</td><td>&hellip;</td><td>&hellip;</td><td>&hellip;</td><td>&hellip;</td><td>&hellip;</td><td>&hellip;</td><td>&hellip;</td><td>&hellip;</td><td>&hellip;</td><td>&hellip;</td><td>&hellip;</td><td>&hellip;</td><td>&hellip;</td><td>&hellip;</td><td>&hellip;</td><td>&hellip;</td><td>&hellip;</td><td>&hellip;</td><td>&hellip;</td><td>&hellip;</td><td>&hellip;</td><td>&hellip;</td><td>&hellip;</td><td>&hellip;</td><td>&hellip;</td><td>&hellip;</td><td>&hellip;</td><td>&hellip;</td><td>&hellip;</td><td>&hellip;</td><td>&hellip;</td><td>&hellip;</td></tr><tr><td>-1.770857</td><td>-0.013207</td><td>1.142548</td><td>-1.586487</td><td>1.592307</td><td>0.133218</td><td>0.177722</td><td>-1.192391</td><td>0.43094</td><td>0.072152</td><td>-0.133684</td><td>-0.136237</td><td>0.000224</td><td>1.279872</td><td>0.862961</td><td>1.514539</td><td>0.862336</td><td>-2.869266</td><td>-1.184751</td><td>-0.382359</td><td>-0.054484</td><td>0.444778</td><td>-0.348364</td><td>-1.726291</td><td>-1.671655</td><td>-0.93748</td><td>0.409386</td><td>-1.218477</td><td>1.837433</td><td>0.040726</td><td>-0.978475</td><td>0.546603</td><td>-0.894199</td><td>-1.120064</td><td>-0.610376</td><td>0.117545</td><td>0.349847</td><td>&hellip;</td><td>-1.809358</td><td>-1.588179</td><td>-0.552064</td><td>-1.05261</td><td>-0.780886</td><td>-1.92038</td><td>0.944428</td><td>0.23394</td><td>-0.125965</td><td>-0.206223</td><td>-0.542142</td><td>-0.185985</td><td>-0.561472</td><td>0.901852</td><td>-0.210261</td><td>-1.046762</td><td>1.235584</td><td>-2.307951</td><td>-0.912997</td><td>-1.094811</td><td>1.052619</td><td>0.52471</td><td>1.198856</td><td>1.370803</td><td>-0.379211</td><td>2.049332</td><td>1.121991</td><td>0.6721</td><td>1.120431</td><td>-0.195211</td><td>2.212433</td><td>0.754643</td><td>2.058567</td><td>0.693948</td><td>2024-01-06 19:00:00</td><td>&quot;2025-04-17T18:16:58.587932&quot;</td><td>&quot;2024-01-06&quot;</td></tr><tr><td>1.018343</td><td>-1.180278</td><td>0.345356</td><td>-0.828377</td><td>-0.813855</td><td>1.684478</td><td>0.457173</td><td>-0.199168</td><td>-0.378018</td><td>-0.734236</td><td>1.110204</td><td>-0.030842</td><td>0.383008</td><td>-0.891049</td><td>1.338601</td><td>-0.743878</td><td>-0.335645</td><td>-0.184445</td><td>0.878273</td><td>-0.584578</td><td>1.414213</td><td>-0.173376</td><td>-1.681487</td><td>0.179899</td><td>1.156388</td><td>-0.147092</td><td>0.402443</td><td>0.540994</td><td>-0.388718</td><td>1.215074</td><td>0.707708</td><td>1.179079</td><td>-0.101366</td><td>-0.840155</td><td>-1.516435</td><td>-0.970585</td><td>0.23208</td><td>&hellip;</td><td>1.543439</td><td>-1.728047</td><td>-1.221385</td><td>0.246888</td><td>-0.253771</td><td>-0.046265</td><td>1.215016</td><td>0.813588</td><td>1.572969</td><td>-1.249444</td><td>-0.273264</td><td>-0.32381</td><td>-0.279585</td><td>-0.520374</td><td>0.207314</td><td>0.994312</td><td>0.058392</td><td>-0.153932</td><td>-1.038156</td><td>-1.267884</td><td>-0.993827</td><td>-0.05865</td><td>-0.724359</td><td>-0.699442</td><td>1.339061</td><td>-2.977951</td><td>-1.495588</td><td>0.785666</td><td>-0.69732</td><td>0.424364</td><td>0.952091</td><td>-1.372202</td><td>0.190302</td><td>1.976749</td><td>2024-01-06 20:00:00</td><td>&quot;2025-04-17T18:16:58.587932&quot;</td><td>&quot;2024-01-06&quot;</td></tr><tr><td>1.084265</td><td>-1.695954</td><td>1.185842</td><td>0.270403</td><td>0.645254</td><td>-1.968925</td><td>-1.146762</td><td>-1.178967</td><td>-0.140569</td><td>0.348643</td><td>-0.82813</td><td>1.533575</td><td>-1.359991</td><td>-0.746806</td><td>0.10408</td><td>0.273313</td><td>-1.869952</td><td>0.912059</td><td>-0.724802</td><td>-0.003949</td><td>-0.722131</td><td>0.508756</td><td>-0.408461</td><td>0.506223</td><td>-0.692862</td><td>0.897113</td><td>-0.641955</td><td>1.546241</td><td>0.044134</td><td>0.808508</td><td>-1.776934</td><td>1.435024</td><td>1.018223</td><td>-0.63796</td><td>-1.076942</td><td>-0.175887</td><td>-0.786231</td><td>&hellip;</td><td>-0.140697</td><td>-0.770016</td><td>0.834161</td><td>1.008492</td><td>-1.241319</td><td>1.107046</td><td>1.279641</td><td>-0.883057</td><td>-0.178261</td><td>0.935556</td><td>1.339388</td><td>0.23503</td><td>0.797351</td><td>1.50022</td><td>-0.82347</td><td>-1.630338</td><td>0.644338</td><td>1.521523</td><td>-0.906031</td><td>-0.524388</td><td>1.969047</td><td>-0.645953</td><td>1.151427</td><td>-1.234181</td><td>-0.153348</td><td>0.606829</td><td>-1.580794</td><td>0.620148</td><td>-0.587555</td><td>-0.882081</td><td>0.817832</td><td>0.666906</td><td>-0.828167</td><td>-1.731568</td><td>2024-01-06 21:00:00</td><td>&quot;2025-04-17T18:16:58.587932&quot;</td><td>&quot;2024-01-06&quot;</td></tr><tr><td>0.112591</td><td>1.731104</td><td>-0.371406</td><td>-1.818987</td><td>0.904269</td><td>-0.789271</td><td>1.235936</td><td>0.611383</td><td>1.539794</td><td>3.007396</td><td>-0.822969</td><td>-1.013312</td><td>0.367624</td><td>-0.177655</td><td>0.534739</td><td>-0.271893</td><td>0.990582</td><td>-0.738579</td><td>0.472348</td><td>0.650522</td><td>-0.834465</td><td>0.55301</td><td>1.06625</td><td>0.831947</td><td>0.440893</td><td>0.774175</td><td>-0.133869</td><td>0.549732</td><td>0.235675</td><td>0.41377</td><td>1.650826</td><td>0.09428</td><td>1.171225</td><td>0.528242</td><td>-0.07915</td><td>-0.985625</td><td>-2.640757</td><td>&hellip;</td><td>-1.783185</td><td>-0.952675</td><td>0.848839</td><td>-0.025362</td><td>-0.568756</td><td>0.334374</td><td>1.587072</td><td>0.527919</td><td>0.742084</td><td>-0.858566</td><td>0.149374</td><td>0.836251</td><td>-1.484039</td><td>-1.097675</td><td>0.505978</td><td>-0.414702</td><td>-0.130527</td><td>-1.270579</td><td>-1.128003</td><td>-0.539259</td><td>0.997169</td><td>0.521918</td><td>-1.518257</td><td>1.5118</td><td>-1.330254</td><td>-0.359313</td><td>-2.696732</td><td>-1.768313</td><td>-0.559229</td><td>1.290389</td><td>-1.263106</td><td>1.172444</td><td>0.413883</td><td>-0.485677</td><td>2024-01-06 22:00:00</td><td>&quot;2025-04-17T18:16:58.587932&quot;</td><td>&quot;2024-01-06&quot;</td></tr><tr><td>-0.331079</td><td>-0.99579</td><td>1.328562</td><td>0.190469</td><td>2.808944</td><td>0.249978</td><td>0.452547</td><td>0.500601</td><td>-1.148158</td><td>-1.343477</td><td>-1.112393</td><td>-0.089687</td><td>-0.545334</td><td>0.43919</td><td>-0.708417</td><td>-1.193089</td><td>0.082175</td><td>-1.198998</td><td>-0.131955</td><td>-0.992568</td><td>0.435959</td><td>0.682929</td><td>-0.842084</td><td>-0.222348</td><td>-0.120146</td><td>0.688799</td><td>0.158848</td><td>-1.225018</td><td>0.856907</td><td>-0.725039</td><td>-0.268061</td><td>-0.499289</td><td>-1.049251</td><td>0.915637</td><td>0.692004</td><td>-1.424586</td><td>0.81571</td><td>&hellip;</td><td>-0.582607</td><td>0.74513</td><td>1.724562</td><td>1.150601</td><td>-0.464487</td><td>0.005681</td><td>-1.851304</td><td>-1.207576</td><td>-0.483816</td><td>0.627956</td><td>0.691079</td><td>1.515799</td><td>1.355664</td><td>0.684002</td><td>0.756964</td><td>-0.051845</td><td>1.117526</td><td>0.043909</td><td>-1.476216</td><td>-0.044476</td><td>-0.521704</td><td>-1.750808</td><td>-1.326969</td><td>-0.323851</td><td>-0.751877</td><td>-0.341921</td><td>0.601408</td><td>-0.439024</td><td>-0.648189</td><td>-1.077901</td><td>1.799555</td><td>-0.670328</td><td>-0.748408</td><td>-1.119844</td><td>2024-01-06 23:00:00</td><td>&quot;2025-04-17T18:16:58.587932&quot;</td><td>&quot;2024-01-06&quot;</td></tr></tbody></table></div>"
      ],
      "text/plain": [
       "shape: (720, 103)\n",
       "┌───────────┬───────────┬───────────┬───────────┬───┬───────────┬───────────┬───────────┬──────────┐\n",
       "│ feature_0 ┆ feature_1 ┆ feature_2 ┆ feature_3 ┆ … ┆ feature_9 ┆ date      ┆ inserted_ ┆ date_day │\n",
       "│ ---       ┆ ---       ┆ ---       ┆ ---       ┆   ┆ 9         ┆ ---       ┆ at        ┆ ---      │\n",
       "│ f64       ┆ f64       ┆ f64       ┆ f64       ┆   ┆ ---       ┆ datetime[ ┆ ---       ┆ str      │\n",
       "│           ┆           ┆           ┆           ┆   ┆ f64       ┆ μs]       ┆ str       ┆          │\n",
       "╞═══════════╪═══════════╪═══════════╪═══════════╪═══╪═══════════╪═══════════╪═══════════╪══════════╡\n",
       "│ 0.119926  ┆ 0.275178  ┆ 0.195489  ┆ 0.159864  ┆ … ┆ -0.476372 ┆ 2024-01-1 ┆ 2025-04-1 ┆ 2024-01- │\n",
       "│           ┆           ┆           ┆           ┆   ┆           ┆ 5         ┆ 7T18:16:5 ┆ 15       │\n",
       "│           ┆           ┆           ┆           ┆   ┆           ┆ 14:00:00  ┆ 8.587932  ┆          │\n",
       "│ 0.338291  ┆ 0.108185  ┆ -0.412352 ┆ -0.790004 ┆ … ┆ -0.595168 ┆ 2024-01-1 ┆ 2025-04-1 ┆ 2024-01- │\n",
       "│           ┆           ┆           ┆           ┆   ┆           ┆ 5         ┆ 7T18:16:5 ┆ 15       │\n",
       "│           ┆           ┆           ┆           ┆   ┆           ┆ 16:00:00  ┆ 8.587932  ┆          │\n",
       "│ -0.619267 ┆ -0.399609 ┆ -0.368632 ┆ 1.460601  ┆ … ┆ 1.085369  ┆ 2024-01-1 ┆ 2025-04-1 ┆ 2024-01- │\n",
       "│           ┆           ┆           ┆           ┆   ┆           ┆ 5         ┆ 7T18:16:5 ┆ 15       │\n",
       "│           ┆           ┆           ┆           ┆   ┆           ┆ 23:00:00  ┆ 8.587932  ┆          │\n",
       "│ 0.457261  ┆ -0.753671 ┆ 0.720189  ┆ 0.568804  ┆ … ┆ 1.429701  ┆ 2024-01-1 ┆ 2025-04-1 ┆ 2024-01- │\n",
       "│           ┆           ┆           ┆           ┆   ┆           ┆ 5         ┆ 7T18:18:5 ┆ 15       │\n",
       "│           ┆           ┆           ┆           ┆   ┆           ┆ 07:00:00  ┆ 5.956637  ┆          │\n",
       "│ -1.120167 ┆ 0.541775  ┆ 0.994673  ┆ 0.183753  ┆ … ┆ 0.333755  ┆ 2024-01-1 ┆ 2025-04-1 ┆ 2024-01- │\n",
       "│           ┆           ┆           ┆           ┆   ┆           ┆ 5         ┆ 7T18:16:5 ┆ 15       │\n",
       "│           ┆           ┆           ┆           ┆   ┆           ┆ 12:00:00  ┆ 8.587932  ┆          │\n",
       "│ …         ┆ …         ┆ …         ┆ …         ┆ … ┆ …         ┆ …         ┆ …         ┆ …        │\n",
       "│ -1.770857 ┆ -0.013207 ┆ 1.142548  ┆ -1.586487 ┆ … ┆ 0.693948  ┆ 2024-01-0 ┆ 2025-04-1 ┆ 2024-01- │\n",
       "│           ┆           ┆           ┆           ┆   ┆           ┆ 6         ┆ 7T18:16:5 ┆ 06       │\n",
       "│           ┆           ┆           ┆           ┆   ┆           ┆ 19:00:00  ┆ 8.587932  ┆          │\n",
       "│ 1.018343  ┆ -1.180278 ┆ 0.345356  ┆ -0.828377 ┆ … ┆ 1.976749  ┆ 2024-01-0 ┆ 2025-04-1 ┆ 2024-01- │\n",
       "│           ┆           ┆           ┆           ┆   ┆           ┆ 6         ┆ 7T18:16:5 ┆ 06       │\n",
       "│           ┆           ┆           ┆           ┆   ┆           ┆ 20:00:00  ┆ 8.587932  ┆          │\n",
       "│ 1.084265  ┆ -1.695954 ┆ 1.185842  ┆ 0.270403  ┆ … ┆ -1.731568 ┆ 2024-01-0 ┆ 2025-04-1 ┆ 2024-01- │\n",
       "│           ┆           ┆           ┆           ┆   ┆           ┆ 6         ┆ 7T18:16:5 ┆ 06       │\n",
       "│           ┆           ┆           ┆           ┆   ┆           ┆ 21:00:00  ┆ 8.587932  ┆          │\n",
       "│ 0.112591  ┆ 1.731104  ┆ -0.371406 ┆ -1.818987 ┆ … ┆ -0.485677 ┆ 2024-01-0 ┆ 2025-04-1 ┆ 2024-01- │\n",
       "│           ┆           ┆           ┆           ┆   ┆           ┆ 6         ┆ 7T18:16:5 ┆ 06       │\n",
       "│           ┆           ┆           ┆           ┆   ┆           ┆ 22:00:00  ┆ 8.587932  ┆          │\n",
       "│ -0.331079 ┆ -0.99579  ┆ 1.328562  ┆ 0.190469  ┆ … ┆ -1.119844 ┆ 2024-01-0 ┆ 2025-04-1 ┆ 2024-01- │\n",
       "│           ┆           ┆           ┆           ┆   ┆           ┆ 6         ┆ 7T18:16:5 ┆ 06       │\n",
       "│           ┆           ┆           ┆           ┆   ┆           ┆ 23:00:00  ┆ 8.587932  ┆          │\n",
       "└───────────┴───────────┴───────────┴───────────┴───┴───────────┴───────────┴───────────┴──────────┘"
      ]
     },
     "execution_count": 16,
     "metadata": {},
     "output_type": "execute_result"
    }
   ],
   "source": [
    "df"
   ]
  }
 ],
 "metadata": {
  "kernelspec": {
   "display_name": ".venv",
   "language": "python",
   "name": "python3"
  },
  "language_info": {
   "codemirror_mode": {
    "name": "ipython",
    "version": 3
   },
   "file_extension": ".py",
   "mimetype": "text/x-python",
   "name": "python",
   "nbconvert_exporter": "python",
   "pygments_lexer": "ipython3",
   "version": "3.10.13"
  }
 },
 "nbformat": 4,
 "nbformat_minor": 5
}
